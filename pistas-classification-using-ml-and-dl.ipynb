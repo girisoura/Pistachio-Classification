{
 "cells": [
  {
   "cell_type": "code",
   "execution_count": 1,
   "id": "546ecace",
   "metadata": {
    "_cell_guid": "b1076dfc-b9ad-4769-8c92-a6c4dae69d19",
    "_uuid": "8f2839f25d086af736a60e9eeb907d3b93b6e0e5",
    "execution": {
     "iopub.execute_input": "2023-07-10T06:54:15.044095Z",
     "iopub.status.busy": "2023-07-10T06:54:15.043643Z",
     "iopub.status.idle": "2023-07-10T06:54:15.060619Z",
     "shell.execute_reply": "2023-07-10T06:54:15.059450Z"
    },
    "papermill": {
     "duration": 0.038201,
     "end_time": "2023-07-10T06:54:15.063299",
     "exception": false,
     "start_time": "2023-07-10T06:54:15.025098",
     "status": "completed"
    },
    "tags": []
   },
   "outputs": [
    {
     "name": "stdout",
     "output_type": "stream",
     "text": [
      "/kaggle/input/pistachio-types-detection/pistachio.csv\n"
     ]
    }
   ],
   "source": [
    "# This Python 3 environment comes with many helpful analytics libraries installed\n",
    "# It is defined by the kaggle/python Docker image: https://github.com/kaggle/docker-python\n",
    "# For example, here's several helpful packages to load\n",
    "\n",
    "import numpy as np # linear algebra\n",
    "import pandas as pd # data processing, CSV file I/O (e.g. pd.read_csv)\n",
    "\n",
    "# Input data files are available in the read-only \"../input/\" directory\n",
    "# For example, running this (by clicking run or pressing Shift+Enter) will list all files under the input directory\n",
    "\n",
    "import os\n",
    "for dirname, _, filenames in os.walk('/kaggle/input'):\n",
    "    for filename in filenames:\n",
    "        print(os.path.join(dirname, filename))\n",
    "\n",
    "# You can write up to 20GB to the current directory (/kaggle/working/) that gets preserved as output when you create a version using \"Save & Run All\" \n",
    "# You can also write temporary files to /kaggle/temp/, but they won't be saved outside of the current session"
   ]
  },
  {
   "cell_type": "code",
   "execution_count": 2,
   "id": "13d189c4",
   "metadata": {
    "execution": {
     "iopub.execute_input": "2023-07-10T06:54:15.098595Z",
     "iopub.status.busy": "2023-07-10T06:54:15.098199Z",
     "iopub.status.idle": "2023-07-10T06:54:15.136856Z",
     "shell.execute_reply": "2023-07-10T06:54:15.135844Z"
    },
    "papermill": {
     "duration": 0.060517,
     "end_time": "2023-07-10T06:54:15.140028",
     "exception": false,
     "start_time": "2023-07-10T06:54:15.079511",
     "status": "completed"
    },
    "tags": []
   },
   "outputs": [],
   "source": [
    "df=pd.read_csv('/kaggle/input/pistachio-types-detection/pistachio.csv')"
   ]
  },
  {
   "cell_type": "code",
   "execution_count": 3,
   "id": "d88b5860",
   "metadata": {
    "execution": {
     "iopub.execute_input": "2023-07-10T06:54:15.174142Z",
     "iopub.status.busy": "2023-07-10T06:54:15.173489Z",
     "iopub.status.idle": "2023-07-10T06:54:15.223205Z",
     "shell.execute_reply": "2023-07-10T06:54:15.221939Z"
    },
    "papermill": {
     "duration": 0.069758,
     "end_time": "2023-07-10T06:54:15.226084",
     "exception": false,
     "start_time": "2023-07-10T06:54:15.156326",
     "status": "completed"
    },
    "tags": []
   },
   "outputs": [
    {
     "data": {
      "text/html": [
       "<div>\n",
       "<style scoped>\n",
       "    .dataframe tbody tr th:only-of-type {\n",
       "        vertical-align: middle;\n",
       "    }\n",
       "\n",
       "    .dataframe tbody tr th {\n",
       "        vertical-align: top;\n",
       "    }\n",
       "\n",
       "    .dataframe thead th {\n",
       "        text-align: right;\n",
       "    }\n",
       "</style>\n",
       "<table border=\"1\" class=\"dataframe\">\n",
       "  <thead>\n",
       "    <tr style=\"text-align: right;\">\n",
       "      <th></th>\n",
       "      <th>AREA</th>\n",
       "      <th>PERIMETER</th>\n",
       "      <th>MAJOR_AXIS</th>\n",
       "      <th>MINOR_AXIS</th>\n",
       "      <th>ECCENTRICITY</th>\n",
       "      <th>EQDIASQ</th>\n",
       "      <th>SOLIDITY</th>\n",
       "      <th>CONVEX_AREA</th>\n",
       "      <th>EXTENT</th>\n",
       "      <th>ASPECT_RATIO</th>\n",
       "      <th>ROUNDNESS</th>\n",
       "      <th>COMPACTNESS</th>\n",
       "      <th>SHAPEFACTOR_1</th>\n",
       "      <th>SHAPEFACTOR_2</th>\n",
       "      <th>SHAPEFACTOR_3</th>\n",
       "      <th>SHAPEFACTOR_4</th>\n",
       "      <th>Class</th>\n",
       "    </tr>\n",
       "  </thead>\n",
       "  <tbody>\n",
       "    <tr>\n",
       "      <th>0</th>\n",
       "      <td>73107</td>\n",
       "      <td>1161.8070</td>\n",
       "      <td>442.4074</td>\n",
       "      <td>217.7261</td>\n",
       "      <td>0.8705</td>\n",
       "      <td>305.0946</td>\n",
       "      <td>0.9424</td>\n",
       "      <td>77579</td>\n",
       "      <td>0.7710</td>\n",
       "      <td>2.0319</td>\n",
       "      <td>0.6806</td>\n",
       "      <td>0.6896</td>\n",
       "      <td>0.0061</td>\n",
       "      <td>0.0030</td>\n",
       "      <td>0.4756</td>\n",
       "      <td>0.9664</td>\n",
       "      <td>Kirmizi_Pistachio</td>\n",
       "    </tr>\n",
       "    <tr>\n",
       "      <th>1</th>\n",
       "      <td>89272</td>\n",
       "      <td>1173.1810</td>\n",
       "      <td>460.2551</td>\n",
       "      <td>251.9546</td>\n",
       "      <td>0.8369</td>\n",
       "      <td>337.1419</td>\n",
       "      <td>0.9641</td>\n",
       "      <td>92598</td>\n",
       "      <td>0.7584</td>\n",
       "      <td>1.8267</td>\n",
       "      <td>0.8151</td>\n",
       "      <td>0.7325</td>\n",
       "      <td>0.0052</td>\n",
       "      <td>0.0028</td>\n",
       "      <td>0.5366</td>\n",
       "      <td>0.9802</td>\n",
       "      <td>Siit_Pistachio</td>\n",
       "    </tr>\n",
       "    <tr>\n",
       "      <th>2</th>\n",
       "      <td>60955</td>\n",
       "      <td>999.7890</td>\n",
       "      <td>386.9247</td>\n",
       "      <td>209.1255</td>\n",
       "      <td>0.8414</td>\n",
       "      <td>278.5863</td>\n",
       "      <td>0.9465</td>\n",
       "      <td>64400</td>\n",
       "      <td>0.7263</td>\n",
       "      <td>1.8502</td>\n",
       "      <td>0.7663</td>\n",
       "      <td>0.7200</td>\n",
       "      <td>0.0063</td>\n",
       "      <td>0.0034</td>\n",
       "      <td>0.5184</td>\n",
       "      <td>0.9591</td>\n",
       "      <td>Kirmizi_Pistachio</td>\n",
       "    </tr>\n",
       "    <tr>\n",
       "      <th>3</th>\n",
       "      <td>79537</td>\n",
       "      <td>1439.5129</td>\n",
       "      <td>466.7973</td>\n",
       "      <td>221.2136</td>\n",
       "      <td>0.8806</td>\n",
       "      <td>318.2289</td>\n",
       "      <td>0.9437</td>\n",
       "      <td>84281</td>\n",
       "      <td>0.7568</td>\n",
       "      <td>2.1102</td>\n",
       "      <td>0.4823</td>\n",
       "      <td>0.6817</td>\n",
       "      <td>0.0059</td>\n",
       "      <td>0.0028</td>\n",
       "      <td>0.4648</td>\n",
       "      <td>0.9807</td>\n",
       "      <td>Kirmizi_Pistachio</td>\n",
       "    </tr>\n",
       "    <tr>\n",
       "      <th>4</th>\n",
       "      <td>96395</td>\n",
       "      <td>1352.6740</td>\n",
       "      <td>515.8730</td>\n",
       "      <td>246.5945</td>\n",
       "      <td>0.8784</td>\n",
       "      <td>350.3340</td>\n",
       "      <td>0.9549</td>\n",
       "      <td>100950</td>\n",
       "      <td>0.7428</td>\n",
       "      <td>2.0920</td>\n",
       "      <td>0.6620</td>\n",
       "      <td>0.6791</td>\n",
       "      <td>0.0054</td>\n",
       "      <td>0.0026</td>\n",
       "      <td>0.4612</td>\n",
       "      <td>0.9648</td>\n",
       "      <td>Kirmizi_Pistachio</td>\n",
       "    </tr>\n",
       "  </tbody>\n",
       "</table>\n",
       "</div>"
      ],
      "text/plain": [
       "    AREA  PERIMETER  MAJOR_AXIS  MINOR_AXIS  ECCENTRICITY   EQDIASQ  SOLIDITY  \\\n",
       "0  73107  1161.8070    442.4074    217.7261        0.8705  305.0946    0.9424   \n",
       "1  89272  1173.1810    460.2551    251.9546        0.8369  337.1419    0.9641   \n",
       "2  60955   999.7890    386.9247    209.1255        0.8414  278.5863    0.9465   \n",
       "3  79537  1439.5129    466.7973    221.2136        0.8806  318.2289    0.9437   \n",
       "4  96395  1352.6740    515.8730    246.5945        0.8784  350.3340    0.9549   \n",
       "\n",
       "   CONVEX_AREA  EXTENT  ASPECT_RATIO  ROUNDNESS  COMPACTNESS  SHAPEFACTOR_1  \\\n",
       "0        77579  0.7710        2.0319     0.6806       0.6896         0.0061   \n",
       "1        92598  0.7584        1.8267     0.8151       0.7325         0.0052   \n",
       "2        64400  0.7263        1.8502     0.7663       0.7200         0.0063   \n",
       "3        84281  0.7568        2.1102     0.4823       0.6817         0.0059   \n",
       "4       100950  0.7428        2.0920     0.6620       0.6791         0.0054   \n",
       "\n",
       "   SHAPEFACTOR_2  SHAPEFACTOR_3  SHAPEFACTOR_4              Class  \n",
       "0         0.0030         0.4756         0.9664  Kirmizi_Pistachio  \n",
       "1         0.0028         0.5366         0.9802     Siit_Pistachio  \n",
       "2         0.0034         0.5184         0.9591  Kirmizi_Pistachio  \n",
       "3         0.0028         0.4648         0.9807  Kirmizi_Pistachio  \n",
       "4         0.0026         0.4612         0.9648  Kirmizi_Pistachio  "
      ]
     },
     "execution_count": 3,
     "metadata": {},
     "output_type": "execute_result"
    }
   ],
   "source": [
    "df.head()"
   ]
  },
  {
   "cell_type": "code",
   "execution_count": 4,
   "id": "63589fe8",
   "metadata": {
    "execution": {
     "iopub.execute_input": "2023-07-10T06:54:15.260389Z",
     "iopub.status.busy": "2023-07-10T06:54:15.260003Z",
     "iopub.status.idle": "2023-07-10T06:54:15.289596Z",
     "shell.execute_reply": "2023-07-10T06:54:15.288128Z"
    },
    "papermill": {
     "duration": 0.049385,
     "end_time": "2023-07-10T06:54:15.291957",
     "exception": false,
     "start_time": "2023-07-10T06:54:15.242572",
     "status": "completed"
    },
    "tags": []
   },
   "outputs": [
    {
     "name": "stdout",
     "output_type": "stream",
     "text": [
      "<class 'pandas.core.frame.DataFrame'>\n",
      "RangeIndex: 1718 entries, 0 to 1717\n",
      "Data columns (total 17 columns):\n",
      " #   Column         Non-Null Count  Dtype  \n",
      "---  ------         --------------  -----  \n",
      " 0   AREA           1718 non-null   int64  \n",
      " 1   PERIMETER      1718 non-null   float64\n",
      " 2   MAJOR_AXIS     1718 non-null   float64\n",
      " 3   MINOR_AXIS     1718 non-null   float64\n",
      " 4   ECCENTRICITY   1718 non-null   float64\n",
      " 5   EQDIASQ        1718 non-null   float64\n",
      " 6   SOLIDITY       1718 non-null   float64\n",
      " 7   CONVEX_AREA    1718 non-null   int64  \n",
      " 8   EXTENT         1718 non-null   float64\n",
      " 9   ASPECT_RATIO   1718 non-null   float64\n",
      " 10  ROUNDNESS      1718 non-null   float64\n",
      " 11  COMPACTNESS    1718 non-null   float64\n",
      " 12  SHAPEFACTOR_1  1718 non-null   float64\n",
      " 13  SHAPEFACTOR_2  1718 non-null   float64\n",
      " 14  SHAPEFACTOR_3  1718 non-null   float64\n",
      " 15  SHAPEFACTOR_4  1718 non-null   float64\n",
      " 16  Class          1718 non-null   object \n",
      "dtypes: float64(14), int64(2), object(1)\n",
      "memory usage: 228.3+ KB\n"
     ]
    }
   ],
   "source": [
    "df.info()"
   ]
  },
  {
   "cell_type": "code",
   "execution_count": 5,
   "id": "1775142e",
   "metadata": {
    "execution": {
     "iopub.execute_input": "2023-07-10T06:54:15.327125Z",
     "iopub.status.busy": "2023-07-10T06:54:15.325956Z",
     "iopub.status.idle": "2023-07-10T06:54:15.396842Z",
     "shell.execute_reply": "2023-07-10T06:54:15.395429Z"
    },
    "papermill": {
     "duration": 0.09102,
     "end_time": "2023-07-10T06:54:15.399492",
     "exception": false,
     "start_time": "2023-07-10T06:54:15.308472",
     "status": "completed"
    },
    "tags": []
   },
   "outputs": [
    {
     "data": {
      "text/html": [
       "<div>\n",
       "<style scoped>\n",
       "    .dataframe tbody tr th:only-of-type {\n",
       "        vertical-align: middle;\n",
       "    }\n",
       "\n",
       "    .dataframe tbody tr th {\n",
       "        vertical-align: top;\n",
       "    }\n",
       "\n",
       "    .dataframe thead th {\n",
       "        text-align: right;\n",
       "    }\n",
       "</style>\n",
       "<table border=\"1\" class=\"dataframe\">\n",
       "  <thead>\n",
       "    <tr style=\"text-align: right;\">\n",
       "      <th></th>\n",
       "      <th>AREA</th>\n",
       "      <th>PERIMETER</th>\n",
       "      <th>MAJOR_AXIS</th>\n",
       "      <th>MINOR_AXIS</th>\n",
       "      <th>ECCENTRICITY</th>\n",
       "      <th>EQDIASQ</th>\n",
       "      <th>SOLIDITY</th>\n",
       "      <th>CONVEX_AREA</th>\n",
       "      <th>EXTENT</th>\n",
       "      <th>ASPECT_RATIO</th>\n",
       "      <th>ROUNDNESS</th>\n",
       "      <th>COMPACTNESS</th>\n",
       "      <th>SHAPEFACTOR_1</th>\n",
       "      <th>SHAPEFACTOR_2</th>\n",
       "      <th>SHAPEFACTOR_3</th>\n",
       "      <th>SHAPEFACTOR_4</th>\n",
       "    </tr>\n",
       "  </thead>\n",
       "  <tbody>\n",
       "    <tr>\n",
       "      <th>count</th>\n",
       "      <td>1718.000000</td>\n",
       "      <td>1718.000000</td>\n",
       "      <td>1718.000000</td>\n",
       "      <td>1718.000000</td>\n",
       "      <td>1718.000000</td>\n",
       "      <td>1718.000000</td>\n",
       "      <td>1718.000000</td>\n",
       "      <td>1718.000000</td>\n",
       "      <td>1718.000000</td>\n",
       "      <td>1718.000000</td>\n",
       "      <td>1718.000000</td>\n",
       "      <td>1718.000000</td>\n",
       "      <td>1718.000000</td>\n",
       "      <td>1718.000000</td>\n",
       "      <td>1718.000000</td>\n",
       "      <td>1718.000000</td>\n",
       "    </tr>\n",
       "    <tr>\n",
       "      <th>mean</th>\n",
       "      <td>79871.952852</td>\n",
       "      <td>1421.797588</td>\n",
       "      <td>446.206444</td>\n",
       "      <td>238.193128</td>\n",
       "      <td>0.840347</td>\n",
       "      <td>317.790000</td>\n",
       "      <td>0.940103</td>\n",
       "      <td>84947.671129</td>\n",
       "      <td>0.716055</td>\n",
       "      <td>1.899342</td>\n",
       "      <td>0.570831</td>\n",
       "      <td>0.712841</td>\n",
       "      <td>0.005704</td>\n",
       "      <td>0.003017</td>\n",
       "      <td>0.510097</td>\n",
       "      <td>0.955185</td>\n",
       "    </tr>\n",
       "    <tr>\n",
       "      <th>std</th>\n",
       "      <td>12968.217051</td>\n",
       "      <td>373.408835</td>\n",
       "      <td>31.885328</td>\n",
       "      <td>30.426445</td>\n",
       "      <td>0.049026</td>\n",
       "      <td>26.571699</td>\n",
       "      <td>0.050006</td>\n",
       "      <td>13081.742551</td>\n",
       "      <td>0.052534</td>\n",
       "      <td>0.241253</td>\n",
       "      <td>0.211514</td>\n",
       "      <td>0.044230</td>\n",
       "      <td>0.000810</td>\n",
       "      <td>0.000334</td>\n",
       "      <td>0.063391</td>\n",
       "      <td>0.051735</td>\n",
       "    </tr>\n",
       "    <tr>\n",
       "      <th>min</th>\n",
       "      <td>29808.000000</td>\n",
       "      <td>858.363000</td>\n",
       "      <td>321.425500</td>\n",
       "      <td>133.509600</td>\n",
       "      <td>0.504900</td>\n",
       "      <td>194.814600</td>\n",
       "      <td>0.588000</td>\n",
       "      <td>37935.000000</td>\n",
       "      <td>0.427200</td>\n",
       "      <td>1.158500</td>\n",
       "      <td>0.062800</td>\n",
       "      <td>0.476000</td>\n",
       "      <td>0.004000</td>\n",
       "      <td>0.002400</td>\n",
       "      <td>0.226600</td>\n",
       "      <td>0.620400</td>\n",
       "    </tr>\n",
       "    <tr>\n",
       "      <th>25%</th>\n",
       "      <td>71898.500000</td>\n",
       "      <td>1169.633225</td>\n",
       "      <td>426.554100</td>\n",
       "      <td>217.875475</td>\n",
       "      <td>0.817500</td>\n",
       "      <td>302.562375</td>\n",
       "      <td>0.920250</td>\n",
       "      <td>76357.750000</td>\n",
       "      <td>0.688100</td>\n",
       "      <td>1.736325</td>\n",
       "      <td>0.372325</td>\n",
       "      <td>0.682000</td>\n",
       "      <td>0.005200</td>\n",
       "      <td>0.002800</td>\n",
       "      <td>0.465125</td>\n",
       "      <td>0.944200</td>\n",
       "    </tr>\n",
       "    <tr>\n",
       "      <th>50%</th>\n",
       "      <td>79795.000000</td>\n",
       "      <td>1260.785500</td>\n",
       "      <td>448.453150</td>\n",
       "      <td>235.888750</td>\n",
       "      <td>0.850250</td>\n",
       "      <td>318.744650</td>\n",
       "      <td>0.953800</td>\n",
       "      <td>84973.000000</td>\n",
       "      <td>0.726100</td>\n",
       "      <td>1.899550</td>\n",
       "      <td>0.643850</td>\n",
       "      <td>0.709750</td>\n",
       "      <td>0.005600</td>\n",
       "      <td>0.003000</td>\n",
       "      <td>0.503750</td>\n",
       "      <td>0.972800</td>\n",
       "    </tr>\n",
       "    <tr>\n",
       "      <th>75%</th>\n",
       "      <td>88980.000000</td>\n",
       "      <td>1599.479000</td>\n",
       "      <td>467.515200</td>\n",
       "      <td>257.433625</td>\n",
       "      <td>0.875375</td>\n",
       "      <td>336.590000</td>\n",
       "      <td>0.976300</td>\n",
       "      <td>93660.750000</td>\n",
       "      <td>0.753600</td>\n",
       "      <td>2.068575</td>\n",
       "      <td>0.744450</td>\n",
       "      <td>0.741600</td>\n",
       "      <td>0.006100</td>\n",
       "      <td>0.003200</td>\n",
       "      <td>0.549975</td>\n",
       "      <td>0.986800</td>\n",
       "    </tr>\n",
       "    <tr>\n",
       "      <th>max</th>\n",
       "      <td>124008.000000</td>\n",
       "      <td>2755.049100</td>\n",
       "      <td>535.642200</td>\n",
       "      <td>383.046100</td>\n",
       "      <td>0.946000</td>\n",
       "      <td>397.356100</td>\n",
       "      <td>0.995100</td>\n",
       "      <td>132478.000000</td>\n",
       "      <td>0.820400</td>\n",
       "      <td>3.085800</td>\n",
       "      <td>0.933600</td>\n",
       "      <td>0.869500</td>\n",
       "      <td>0.013100</td>\n",
       "      <td>0.005300</td>\n",
       "      <td>0.756100</td>\n",
       "      <td>0.999000</td>\n",
       "    </tr>\n",
       "  </tbody>\n",
       "</table>\n",
       "</div>"
      ],
      "text/plain": [
       "                AREA    PERIMETER   MAJOR_AXIS   MINOR_AXIS  ECCENTRICITY  \\\n",
       "count    1718.000000  1718.000000  1718.000000  1718.000000   1718.000000   \n",
       "mean    79871.952852  1421.797588   446.206444   238.193128      0.840347   \n",
       "std     12968.217051   373.408835    31.885328    30.426445      0.049026   \n",
       "min     29808.000000   858.363000   321.425500   133.509600      0.504900   \n",
       "25%     71898.500000  1169.633225   426.554100   217.875475      0.817500   \n",
       "50%     79795.000000  1260.785500   448.453150   235.888750      0.850250   \n",
       "75%     88980.000000  1599.479000   467.515200   257.433625      0.875375   \n",
       "max    124008.000000  2755.049100   535.642200   383.046100      0.946000   \n",
       "\n",
       "           EQDIASQ     SOLIDITY    CONVEX_AREA       EXTENT  ASPECT_RATIO  \\\n",
       "count  1718.000000  1718.000000    1718.000000  1718.000000   1718.000000   \n",
       "mean    317.790000     0.940103   84947.671129     0.716055      1.899342   \n",
       "std      26.571699     0.050006   13081.742551     0.052534      0.241253   \n",
       "min     194.814600     0.588000   37935.000000     0.427200      1.158500   \n",
       "25%     302.562375     0.920250   76357.750000     0.688100      1.736325   \n",
       "50%     318.744650     0.953800   84973.000000     0.726100      1.899550   \n",
       "75%     336.590000     0.976300   93660.750000     0.753600      2.068575   \n",
       "max     397.356100     0.995100  132478.000000     0.820400      3.085800   \n",
       "\n",
       "         ROUNDNESS  COMPACTNESS  SHAPEFACTOR_1  SHAPEFACTOR_2  SHAPEFACTOR_3  \\\n",
       "count  1718.000000  1718.000000    1718.000000    1718.000000    1718.000000   \n",
       "mean      0.570831     0.712841       0.005704       0.003017       0.510097   \n",
       "std       0.211514     0.044230       0.000810       0.000334       0.063391   \n",
       "min       0.062800     0.476000       0.004000       0.002400       0.226600   \n",
       "25%       0.372325     0.682000       0.005200       0.002800       0.465125   \n",
       "50%       0.643850     0.709750       0.005600       0.003000       0.503750   \n",
       "75%       0.744450     0.741600       0.006100       0.003200       0.549975   \n",
       "max       0.933600     0.869500       0.013100       0.005300       0.756100   \n",
       "\n",
       "       SHAPEFACTOR_4  \n",
       "count    1718.000000  \n",
       "mean        0.955185  \n",
       "std         0.051735  \n",
       "min         0.620400  \n",
       "25%         0.944200  \n",
       "50%         0.972800  \n",
       "75%         0.986800  \n",
       "max         0.999000  "
      ]
     },
     "execution_count": 5,
     "metadata": {},
     "output_type": "execute_result"
    }
   ],
   "source": [
    "df.describe()"
   ]
  },
  {
   "cell_type": "code",
   "execution_count": 6,
   "id": "d559b5ee",
   "metadata": {
    "execution": {
     "iopub.execute_input": "2023-07-10T06:54:15.434342Z",
     "iopub.status.busy": "2023-07-10T06:54:15.433958Z",
     "iopub.status.idle": "2023-07-10T06:54:15.469879Z",
     "shell.execute_reply": "2023-07-10T06:54:15.468460Z"
    },
    "papermill": {
     "duration": 0.057259,
     "end_time": "2023-07-10T06:54:15.473295",
     "exception": false,
     "start_time": "2023-07-10T06:54:15.416036",
     "status": "completed"
    },
    "tags": []
   },
   "outputs": [
    {
     "name": "stderr",
     "output_type": "stream",
     "text": [
      "/tmp/ipykernel_20/1134722465.py:1: FutureWarning: The default value of numeric_only in DataFrame.corr is deprecated. In a future version, it will default to False. Select only valid columns or specify the value of numeric_only to silence this warning.\n",
      "  df.corr()\n"
     ]
    },
    {
     "data": {
      "text/html": [
       "<div>\n",
       "<style scoped>\n",
       "    .dataframe tbody tr th:only-of-type {\n",
       "        vertical-align: middle;\n",
       "    }\n",
       "\n",
       "    .dataframe tbody tr th {\n",
       "        vertical-align: top;\n",
       "    }\n",
       "\n",
       "    .dataframe thead th {\n",
       "        text-align: right;\n",
       "    }\n",
       "</style>\n",
       "<table border=\"1\" class=\"dataframe\">\n",
       "  <thead>\n",
       "    <tr style=\"text-align: right;\">\n",
       "      <th></th>\n",
       "      <th>AREA</th>\n",
       "      <th>PERIMETER</th>\n",
       "      <th>MAJOR_AXIS</th>\n",
       "      <th>MINOR_AXIS</th>\n",
       "      <th>ECCENTRICITY</th>\n",
       "      <th>EQDIASQ</th>\n",
       "      <th>SOLIDITY</th>\n",
       "      <th>CONVEX_AREA</th>\n",
       "      <th>EXTENT</th>\n",
       "      <th>ASPECT_RATIO</th>\n",
       "      <th>ROUNDNESS</th>\n",
       "      <th>COMPACTNESS</th>\n",
       "      <th>SHAPEFACTOR_1</th>\n",
       "      <th>SHAPEFACTOR_2</th>\n",
       "      <th>SHAPEFACTOR_3</th>\n",
       "      <th>SHAPEFACTOR_4</th>\n",
       "    </tr>\n",
       "  </thead>\n",
       "  <tbody>\n",
       "    <tr>\n",
       "      <th>AREA</th>\n",
       "      <td>1.000000</td>\n",
       "      <td>0.126761</td>\n",
       "      <td>0.692633</td>\n",
       "      <td>0.793049</td>\n",
       "      <td>-0.363923</td>\n",
       "      <td>0.997478</td>\n",
       "      <td>0.346586</td>\n",
       "      <td>0.942436</td>\n",
       "      <td>0.326084</td>\n",
       "      <td>-0.435502</td>\n",
       "      <td>0.242496</td>\n",
       "      <td>0.557839</td>\n",
       "      <td>-0.891779</td>\n",
       "      <td>-0.636923</td>\n",
       "      <td>0.551963</td>\n",
       "      <td>0.277317</td>\n",
       "    </tr>\n",
       "    <tr>\n",
       "      <th>PERIMETER</th>\n",
       "      <td>0.126761</td>\n",
       "      <td>1.000000</td>\n",
       "      <td>0.098464</td>\n",
       "      <td>0.401052</td>\n",
       "      <td>-0.346744</td>\n",
       "      <td>0.124297</td>\n",
       "      <td>-0.669458</td>\n",
       "      <td>0.374869</td>\n",
       "      <td>-0.403156</td>\n",
       "      <td>-0.318336</td>\n",
       "      <td>-0.890968</td>\n",
       "      <td>0.055165</td>\n",
       "      <td>-0.091886</td>\n",
       "      <td>0.282257</td>\n",
       "      <td>0.058340</td>\n",
       "      <td>-0.630312</td>\n",
       "    </tr>\n",
       "    <tr>\n",
       "      <th>MAJOR_AXIS</th>\n",
       "      <td>0.692633</td>\n",
       "      <td>0.098464</td>\n",
       "      <td>1.000000</td>\n",
       "      <td>0.266077</td>\n",
       "      <td>0.293661</td>\n",
       "      <td>0.700013</td>\n",
       "      <td>0.236725</td>\n",
       "      <td>0.654807</td>\n",
       "      <td>0.182139</td>\n",
       "      <td>0.257291</td>\n",
       "      <td>0.146419</td>\n",
       "      <td>-0.201616</td>\n",
       "      <td>-0.381704</td>\n",
       "      <td>-0.788998</td>\n",
       "      <td>-0.208792</td>\n",
       "      <td>0.190569</td>\n",
       "    </tr>\n",
       "    <tr>\n",
       "      <th>MINOR_AXIS</th>\n",
       "      <td>0.793049</td>\n",
       "      <td>0.401052</td>\n",
       "      <td>0.266077</td>\n",
       "      <td>1.000000</td>\n",
       "      <td>-0.823695</td>\n",
       "      <td>0.790715</td>\n",
       "      <td>-0.111769</td>\n",
       "      <td>0.891061</td>\n",
       "      <td>0.037579</td>\n",
       "      <td>-0.845653</td>\n",
       "      <td>-0.073826</td>\n",
       "      <td>0.774499</td>\n",
       "      <td>-0.849903</td>\n",
       "      <td>-0.060274</td>\n",
       "      <td>0.773085</td>\n",
       "      <td>-0.210922</td>\n",
       "    </tr>\n",
       "    <tr>\n",
       "      <th>ECCENTRICITY</th>\n",
       "      <td>-0.363923</td>\n",
       "      <td>-0.346744</td>\n",
       "      <td>0.293661</td>\n",
       "      <td>-0.823695</td>\n",
       "      <td>1.000000</td>\n",
       "      <td>-0.357936</td>\n",
       "      <td>0.281819</td>\n",
       "      <td>-0.495013</td>\n",
       "      <td>0.092749</td>\n",
       "      <td>0.942441</td>\n",
       "      <td>0.177180</td>\n",
       "      <td>-0.839929</td>\n",
       "      <td>0.584090</td>\n",
       "      <td>-0.415222</td>\n",
       "      <td>-0.847845</td>\n",
       "      <td>0.355280</td>\n",
       "    </tr>\n",
       "    <tr>\n",
       "      <th>EQDIASQ</th>\n",
       "      <td>0.997478</td>\n",
       "      <td>0.124297</td>\n",
       "      <td>0.700013</td>\n",
       "      <td>0.790715</td>\n",
       "      <td>-0.357936</td>\n",
       "      <td>1.000000</td>\n",
       "      <td>0.354292</td>\n",
       "      <td>0.939496</td>\n",
       "      <td>0.333053</td>\n",
       "      <td>-0.435847</td>\n",
       "      <td>0.246490</td>\n",
       "      <td>0.556026</td>\n",
       "      <td>-0.905827</td>\n",
       "      <td>-0.648537</td>\n",
       "      <td>0.548476</td>\n",
       "      <td>0.281246</td>\n",
       "    </tr>\n",
       "    <tr>\n",
       "      <th>SOLIDITY</th>\n",
       "      <td>0.346586</td>\n",
       "      <td>-0.669458</td>\n",
       "      <td>0.236725</td>\n",
       "      <td>-0.111769</td>\n",
       "      <td>0.281819</td>\n",
       "      <td>0.354292</td>\n",
       "      <td>1.000000</td>\n",
       "      <td>0.019002</td>\n",
       "      <td>0.672702</td>\n",
       "      <td>0.188912</td>\n",
       "      <td>0.773828</td>\n",
       "      <td>0.211119</td>\n",
       "      <td>-0.358126</td>\n",
       "      <td>-0.726551</td>\n",
       "      <td>0.201128</td>\n",
       "      <td>0.948979</td>\n",
       "    </tr>\n",
       "    <tr>\n",
       "      <th>CONVEX_AREA</th>\n",
       "      <td>0.942436</td>\n",
       "      <td>0.374869</td>\n",
       "      <td>0.654807</td>\n",
       "      <td>0.891061</td>\n",
       "      <td>-0.495013</td>\n",
       "      <td>0.939496</td>\n",
       "      <td>0.019002</td>\n",
       "      <td>1.000000</td>\n",
       "      <td>0.115222</td>\n",
       "      <td>-0.536391</td>\n",
       "      <td>-0.015658</td>\n",
       "      <td>0.523205</td>\n",
       "      <td>-0.834294</td>\n",
       "      <td>-0.423927</td>\n",
       "      <td>0.519330</td>\n",
       "      <td>-0.042424</td>\n",
       "    </tr>\n",
       "    <tr>\n",
       "      <th>EXTENT</th>\n",
       "      <td>0.326084</td>\n",
       "      <td>-0.403156</td>\n",
       "      <td>0.182139</td>\n",
       "      <td>0.037579</td>\n",
       "      <td>0.092749</td>\n",
       "      <td>0.333053</td>\n",
       "      <td>0.672702</td>\n",
       "      <td>0.115222</td>\n",
       "      <td>1.000000</td>\n",
       "      <td>0.024325</td>\n",
       "      <td>0.515366</td>\n",
       "      <td>0.246722</td>\n",
       "      <td>-0.357668</td>\n",
       "      <td>-0.505440</td>\n",
       "      <td>0.238224</td>\n",
       "      <td>0.641970</td>\n",
       "    </tr>\n",
       "    <tr>\n",
       "      <th>ASPECT_RATIO</th>\n",
       "      <td>-0.435502</td>\n",
       "      <td>-0.318336</td>\n",
       "      <td>0.257291</td>\n",
       "      <td>-0.845653</td>\n",
       "      <td>0.942441</td>\n",
       "      <td>-0.435847</td>\n",
       "      <td>0.188912</td>\n",
       "      <td>-0.536391</td>\n",
       "      <td>0.024325</td>\n",
       "      <td>1.000000</td>\n",
       "      <td>0.113843</td>\n",
       "      <td>-0.898520</td>\n",
       "      <td>0.691707</td>\n",
       "      <td>-0.323127</td>\n",
       "      <td>-0.893924</td>\n",
       "      <td>0.265343</td>\n",
       "    </tr>\n",
       "    <tr>\n",
       "      <th>ROUNDNESS</th>\n",
       "      <td>0.242496</td>\n",
       "      <td>-0.890968</td>\n",
       "      <td>0.146419</td>\n",
       "      <td>-0.073826</td>\n",
       "      <td>0.177180</td>\n",
       "      <td>0.246490</td>\n",
       "      <td>0.773828</td>\n",
       "      <td>-0.015658</td>\n",
       "      <td>0.515366</td>\n",
       "      <td>0.113843</td>\n",
       "      <td>1.000000</td>\n",
       "      <td>0.168178</td>\n",
       "      <td>-0.249870</td>\n",
       "      <td>-0.481337</td>\n",
       "      <td>0.162581</td>\n",
       "      <td>0.680307</td>\n",
       "    </tr>\n",
       "    <tr>\n",
       "      <th>COMPACTNESS</th>\n",
       "      <td>0.557839</td>\n",
       "      <td>0.055165</td>\n",
       "      <td>-0.201616</td>\n",
       "      <td>0.774499</td>\n",
       "      <td>-0.839929</td>\n",
       "      <td>0.556026</td>\n",
       "      <td>0.211119</td>\n",
       "      <td>0.523205</td>\n",
       "      <td>0.246722</td>\n",
       "      <td>-0.898520</td>\n",
       "      <td>0.168178</td>\n",
       "      <td>1.000000</td>\n",
       "      <td>-0.806292</td>\n",
       "      <td>0.028696</td>\n",
       "      <td>0.998606</td>\n",
       "      <td>0.162842</td>\n",
       "    </tr>\n",
       "    <tr>\n",
       "      <th>SHAPEFACTOR_1</th>\n",
       "      <td>-0.891779</td>\n",
       "      <td>-0.091886</td>\n",
       "      <td>-0.381704</td>\n",
       "      <td>-0.849903</td>\n",
       "      <td>0.584090</td>\n",
       "      <td>-0.905827</td>\n",
       "      <td>-0.358126</td>\n",
       "      <td>-0.834294</td>\n",
       "      <td>-0.357668</td>\n",
       "      <td>0.691707</td>\n",
       "      <td>-0.249870</td>\n",
       "      <td>-0.806292</td>\n",
       "      <td>1.000000</td>\n",
       "      <td>0.442237</td>\n",
       "      <td>-0.792292</td>\n",
       "      <td>-0.277661</td>\n",
       "    </tr>\n",
       "    <tr>\n",
       "      <th>SHAPEFACTOR_2</th>\n",
       "      <td>-0.636923</td>\n",
       "      <td>0.282257</td>\n",
       "      <td>-0.788998</td>\n",
       "      <td>-0.060274</td>\n",
       "      <td>-0.415222</td>\n",
       "      <td>-0.648537</td>\n",
       "      <td>-0.726551</td>\n",
       "      <td>-0.423927</td>\n",
       "      <td>-0.505440</td>\n",
       "      <td>-0.323127</td>\n",
       "      <td>-0.481337</td>\n",
       "      <td>0.028696</td>\n",
       "      <td>0.442237</td>\n",
       "      <td>1.000000</td>\n",
       "      <td>0.038867</td>\n",
       "      <td>-0.731380</td>\n",
       "    </tr>\n",
       "    <tr>\n",
       "      <th>SHAPEFACTOR_3</th>\n",
       "      <td>0.551963</td>\n",
       "      <td>0.058340</td>\n",
       "      <td>-0.208792</td>\n",
       "      <td>0.773085</td>\n",
       "      <td>-0.847845</td>\n",
       "      <td>0.548476</td>\n",
       "      <td>0.201128</td>\n",
       "      <td>0.519330</td>\n",
       "      <td>0.238224</td>\n",
       "      <td>-0.893924</td>\n",
       "      <td>0.162581</td>\n",
       "      <td>0.998606</td>\n",
       "      <td>-0.792292</td>\n",
       "      <td>0.038867</td>\n",
       "      <td>1.000000</td>\n",
       "      <td>0.155478</td>\n",
       "    </tr>\n",
       "    <tr>\n",
       "      <th>SHAPEFACTOR_4</th>\n",
       "      <td>0.277317</td>\n",
       "      <td>-0.630312</td>\n",
       "      <td>0.190569</td>\n",
       "      <td>-0.210922</td>\n",
       "      <td>0.355280</td>\n",
       "      <td>0.281246</td>\n",
       "      <td>0.948979</td>\n",
       "      <td>-0.042424</td>\n",
       "      <td>0.641970</td>\n",
       "      <td>0.265343</td>\n",
       "      <td>0.680307</td>\n",
       "      <td>0.162842</td>\n",
       "      <td>-0.277661</td>\n",
       "      <td>-0.731380</td>\n",
       "      <td>0.155478</td>\n",
       "      <td>1.000000</td>\n",
       "    </tr>\n",
       "  </tbody>\n",
       "</table>\n",
       "</div>"
      ],
      "text/plain": [
       "                   AREA  PERIMETER  MAJOR_AXIS  MINOR_AXIS  ECCENTRICITY  \\\n",
       "AREA           1.000000   0.126761    0.692633    0.793049     -0.363923   \n",
       "PERIMETER      0.126761   1.000000    0.098464    0.401052     -0.346744   \n",
       "MAJOR_AXIS     0.692633   0.098464    1.000000    0.266077      0.293661   \n",
       "MINOR_AXIS     0.793049   0.401052    0.266077    1.000000     -0.823695   \n",
       "ECCENTRICITY  -0.363923  -0.346744    0.293661   -0.823695      1.000000   \n",
       "EQDIASQ        0.997478   0.124297    0.700013    0.790715     -0.357936   \n",
       "SOLIDITY       0.346586  -0.669458    0.236725   -0.111769      0.281819   \n",
       "CONVEX_AREA    0.942436   0.374869    0.654807    0.891061     -0.495013   \n",
       "EXTENT         0.326084  -0.403156    0.182139    0.037579      0.092749   \n",
       "ASPECT_RATIO  -0.435502  -0.318336    0.257291   -0.845653      0.942441   \n",
       "ROUNDNESS      0.242496  -0.890968    0.146419   -0.073826      0.177180   \n",
       "COMPACTNESS    0.557839   0.055165   -0.201616    0.774499     -0.839929   \n",
       "SHAPEFACTOR_1 -0.891779  -0.091886   -0.381704   -0.849903      0.584090   \n",
       "SHAPEFACTOR_2 -0.636923   0.282257   -0.788998   -0.060274     -0.415222   \n",
       "SHAPEFACTOR_3  0.551963   0.058340   -0.208792    0.773085     -0.847845   \n",
       "SHAPEFACTOR_4  0.277317  -0.630312    0.190569   -0.210922      0.355280   \n",
       "\n",
       "                EQDIASQ  SOLIDITY  CONVEX_AREA    EXTENT  ASPECT_RATIO  \\\n",
       "AREA           0.997478  0.346586     0.942436  0.326084     -0.435502   \n",
       "PERIMETER      0.124297 -0.669458     0.374869 -0.403156     -0.318336   \n",
       "MAJOR_AXIS     0.700013  0.236725     0.654807  0.182139      0.257291   \n",
       "MINOR_AXIS     0.790715 -0.111769     0.891061  0.037579     -0.845653   \n",
       "ECCENTRICITY  -0.357936  0.281819    -0.495013  0.092749      0.942441   \n",
       "EQDIASQ        1.000000  0.354292     0.939496  0.333053     -0.435847   \n",
       "SOLIDITY       0.354292  1.000000     0.019002  0.672702      0.188912   \n",
       "CONVEX_AREA    0.939496  0.019002     1.000000  0.115222     -0.536391   \n",
       "EXTENT         0.333053  0.672702     0.115222  1.000000      0.024325   \n",
       "ASPECT_RATIO  -0.435847  0.188912    -0.536391  0.024325      1.000000   \n",
       "ROUNDNESS      0.246490  0.773828    -0.015658  0.515366      0.113843   \n",
       "COMPACTNESS    0.556026  0.211119     0.523205  0.246722     -0.898520   \n",
       "SHAPEFACTOR_1 -0.905827 -0.358126    -0.834294 -0.357668      0.691707   \n",
       "SHAPEFACTOR_2 -0.648537 -0.726551    -0.423927 -0.505440     -0.323127   \n",
       "SHAPEFACTOR_3  0.548476  0.201128     0.519330  0.238224     -0.893924   \n",
       "SHAPEFACTOR_4  0.281246  0.948979    -0.042424  0.641970      0.265343   \n",
       "\n",
       "               ROUNDNESS  COMPACTNESS  SHAPEFACTOR_1  SHAPEFACTOR_2  \\\n",
       "AREA            0.242496     0.557839      -0.891779      -0.636923   \n",
       "PERIMETER      -0.890968     0.055165      -0.091886       0.282257   \n",
       "MAJOR_AXIS      0.146419    -0.201616      -0.381704      -0.788998   \n",
       "MINOR_AXIS     -0.073826     0.774499      -0.849903      -0.060274   \n",
       "ECCENTRICITY    0.177180    -0.839929       0.584090      -0.415222   \n",
       "EQDIASQ         0.246490     0.556026      -0.905827      -0.648537   \n",
       "SOLIDITY        0.773828     0.211119      -0.358126      -0.726551   \n",
       "CONVEX_AREA    -0.015658     0.523205      -0.834294      -0.423927   \n",
       "EXTENT          0.515366     0.246722      -0.357668      -0.505440   \n",
       "ASPECT_RATIO    0.113843    -0.898520       0.691707      -0.323127   \n",
       "ROUNDNESS       1.000000     0.168178      -0.249870      -0.481337   \n",
       "COMPACTNESS     0.168178     1.000000      -0.806292       0.028696   \n",
       "SHAPEFACTOR_1  -0.249870    -0.806292       1.000000       0.442237   \n",
       "SHAPEFACTOR_2  -0.481337     0.028696       0.442237       1.000000   \n",
       "SHAPEFACTOR_3   0.162581     0.998606      -0.792292       0.038867   \n",
       "SHAPEFACTOR_4   0.680307     0.162842      -0.277661      -0.731380   \n",
       "\n",
       "               SHAPEFACTOR_3  SHAPEFACTOR_4  \n",
       "AREA                0.551963       0.277317  \n",
       "PERIMETER           0.058340      -0.630312  \n",
       "MAJOR_AXIS         -0.208792       0.190569  \n",
       "MINOR_AXIS          0.773085      -0.210922  \n",
       "ECCENTRICITY       -0.847845       0.355280  \n",
       "EQDIASQ             0.548476       0.281246  \n",
       "SOLIDITY            0.201128       0.948979  \n",
       "CONVEX_AREA         0.519330      -0.042424  \n",
       "EXTENT              0.238224       0.641970  \n",
       "ASPECT_RATIO       -0.893924       0.265343  \n",
       "ROUNDNESS           0.162581       0.680307  \n",
       "COMPACTNESS         0.998606       0.162842  \n",
       "SHAPEFACTOR_1      -0.792292      -0.277661  \n",
       "SHAPEFACTOR_2       0.038867      -0.731380  \n",
       "SHAPEFACTOR_3       1.000000       0.155478  \n",
       "SHAPEFACTOR_4       0.155478       1.000000  "
      ]
     },
     "execution_count": 6,
     "metadata": {},
     "output_type": "execute_result"
    }
   ],
   "source": [
    "df.corr()"
   ]
  },
  {
   "cell_type": "code",
   "execution_count": 7,
   "id": "9ea81f82",
   "metadata": {
    "execution": {
     "iopub.execute_input": "2023-07-10T06:54:15.513419Z",
     "iopub.status.busy": "2023-07-10T06:54:15.512423Z",
     "iopub.status.idle": "2023-07-10T06:54:15.520870Z",
     "shell.execute_reply": "2023-07-10T06:54:15.519912Z"
    },
    "papermill": {
     "duration": 0.029517,
     "end_time": "2023-07-10T06:54:15.523252",
     "exception": false,
     "start_time": "2023-07-10T06:54:15.493735",
     "status": "completed"
    },
    "tags": []
   },
   "outputs": [
    {
     "data": {
      "text/plain": [
       "0       Kirmizi_Pistachio\n",
       "1          Siit_Pistachio\n",
       "2       Kirmizi_Pistachio\n",
       "3       Kirmizi_Pistachio\n",
       "4       Kirmizi_Pistachio\n",
       "              ...        \n",
       "1713    Kirmizi_Pistachio\n",
       "1714    Kirmizi_Pistachio\n",
       "1715       Siit_Pistachio\n",
       "1716    Kirmizi_Pistachio\n",
       "1717       Siit_Pistachio\n",
       "Name: Class, Length: 1718, dtype: object"
      ]
     },
     "execution_count": 7,
     "metadata": {},
     "output_type": "execute_result"
    }
   ],
   "source": [
    "df['Class']"
   ]
  },
  {
   "cell_type": "code",
   "execution_count": 8,
   "id": "582588d5",
   "metadata": {
    "execution": {
     "iopub.execute_input": "2023-07-10T06:54:15.562414Z",
     "iopub.status.busy": "2023-07-10T06:54:15.561626Z",
     "iopub.status.idle": "2023-07-10T06:54:17.353003Z",
     "shell.execute_reply": "2023-07-10T06:54:17.351723Z"
    },
    "papermill": {
     "duration": 1.814138,
     "end_time": "2023-07-10T06:54:17.356047",
     "exception": false,
     "start_time": "2023-07-10T06:54:15.541909",
     "status": "completed"
    },
    "tags": []
   },
   "outputs": [],
   "source": [
    "import matplotlib.pyplot as plt\n",
    "from sklearn.model_selection import train_test_split\n",
    "from sklearn.preprocessing import StandardScaler"
   ]
  },
  {
   "cell_type": "code",
   "execution_count": 9,
   "id": "25c4eeac",
   "metadata": {
    "execution": {
     "iopub.execute_input": "2023-07-10T06:54:17.397440Z",
     "iopub.status.busy": "2023-07-10T06:54:17.396985Z",
     "iopub.status.idle": "2023-07-10T06:54:17.403879Z",
     "shell.execute_reply": "2023-07-10T06:54:17.402409Z"
    },
    "papermill": {
     "duration": 0.031441,
     "end_time": "2023-07-10T06:54:17.406526",
     "exception": false,
     "start_time": "2023-07-10T06:54:17.375085",
     "status": "completed"
    },
    "tags": []
   },
   "outputs": [],
   "source": [
    "X=df.iloc[:,:-1]\n",
    "y=df.iloc[:,-1]\n",
    "#X_train,X_test,y_train,y_test=train_test_split(,test_size=0.3,random_state=42)"
   ]
  },
  {
   "cell_type": "code",
   "execution_count": 10,
   "id": "fe3fd21c",
   "metadata": {
    "execution": {
     "iopub.execute_input": "2023-07-10T06:54:17.446060Z",
     "iopub.status.busy": "2023-07-10T06:54:17.444882Z",
     "iopub.status.idle": "2023-07-10T06:54:17.476343Z",
     "shell.execute_reply": "2023-07-10T06:54:17.475368Z"
    },
    "papermill": {
     "duration": 0.052893,
     "end_time": "2023-07-10T06:54:17.478726",
     "exception": false,
     "start_time": "2023-07-10T06:54:17.425833",
     "status": "completed"
    },
    "tags": []
   },
   "outputs": [
    {
     "data": {
      "text/html": [
       "<div>\n",
       "<style scoped>\n",
       "    .dataframe tbody tr th:only-of-type {\n",
       "        vertical-align: middle;\n",
       "    }\n",
       "\n",
       "    .dataframe tbody tr th {\n",
       "        vertical-align: top;\n",
       "    }\n",
       "\n",
       "    .dataframe thead th {\n",
       "        text-align: right;\n",
       "    }\n",
       "</style>\n",
       "<table border=\"1\" class=\"dataframe\">\n",
       "  <thead>\n",
       "    <tr style=\"text-align: right;\">\n",
       "      <th></th>\n",
       "      <th>AREA</th>\n",
       "      <th>PERIMETER</th>\n",
       "      <th>MAJOR_AXIS</th>\n",
       "      <th>MINOR_AXIS</th>\n",
       "      <th>ECCENTRICITY</th>\n",
       "      <th>EQDIASQ</th>\n",
       "      <th>SOLIDITY</th>\n",
       "      <th>CONVEX_AREA</th>\n",
       "      <th>EXTENT</th>\n",
       "      <th>ASPECT_RATIO</th>\n",
       "      <th>ROUNDNESS</th>\n",
       "      <th>COMPACTNESS</th>\n",
       "      <th>SHAPEFACTOR_1</th>\n",
       "      <th>SHAPEFACTOR_2</th>\n",
       "      <th>SHAPEFACTOR_3</th>\n",
       "      <th>SHAPEFACTOR_4</th>\n",
       "    </tr>\n",
       "  </thead>\n",
       "  <tbody>\n",
       "    <tr>\n",
       "      <th>0</th>\n",
       "      <td>73107</td>\n",
       "      <td>1161.8070</td>\n",
       "      <td>442.4074</td>\n",
       "      <td>217.7261</td>\n",
       "      <td>0.8705</td>\n",
       "      <td>305.0946</td>\n",
       "      <td>0.9424</td>\n",
       "      <td>77579</td>\n",
       "      <td>0.7710</td>\n",
       "      <td>2.0319</td>\n",
       "      <td>0.6806</td>\n",
       "      <td>0.6896</td>\n",
       "      <td>0.0061</td>\n",
       "      <td>0.0030</td>\n",
       "      <td>0.4756</td>\n",
       "      <td>0.9664</td>\n",
       "    </tr>\n",
       "    <tr>\n",
       "      <th>1</th>\n",
       "      <td>89272</td>\n",
       "      <td>1173.1810</td>\n",
       "      <td>460.2551</td>\n",
       "      <td>251.9546</td>\n",
       "      <td>0.8369</td>\n",
       "      <td>337.1419</td>\n",
       "      <td>0.9641</td>\n",
       "      <td>92598</td>\n",
       "      <td>0.7584</td>\n",
       "      <td>1.8267</td>\n",
       "      <td>0.8151</td>\n",
       "      <td>0.7325</td>\n",
       "      <td>0.0052</td>\n",
       "      <td>0.0028</td>\n",
       "      <td>0.5366</td>\n",
       "      <td>0.9802</td>\n",
       "    </tr>\n",
       "    <tr>\n",
       "      <th>2</th>\n",
       "      <td>60955</td>\n",
       "      <td>999.7890</td>\n",
       "      <td>386.9247</td>\n",
       "      <td>209.1255</td>\n",
       "      <td>0.8414</td>\n",
       "      <td>278.5863</td>\n",
       "      <td>0.9465</td>\n",
       "      <td>64400</td>\n",
       "      <td>0.7263</td>\n",
       "      <td>1.8502</td>\n",
       "      <td>0.7663</td>\n",
       "      <td>0.7200</td>\n",
       "      <td>0.0063</td>\n",
       "      <td>0.0034</td>\n",
       "      <td>0.5184</td>\n",
       "      <td>0.9591</td>\n",
       "    </tr>\n",
       "    <tr>\n",
       "      <th>3</th>\n",
       "      <td>79537</td>\n",
       "      <td>1439.5129</td>\n",
       "      <td>466.7973</td>\n",
       "      <td>221.2136</td>\n",
       "      <td>0.8806</td>\n",
       "      <td>318.2289</td>\n",
       "      <td>0.9437</td>\n",
       "      <td>84281</td>\n",
       "      <td>0.7568</td>\n",
       "      <td>2.1102</td>\n",
       "      <td>0.4823</td>\n",
       "      <td>0.6817</td>\n",
       "      <td>0.0059</td>\n",
       "      <td>0.0028</td>\n",
       "      <td>0.4648</td>\n",
       "      <td>0.9807</td>\n",
       "    </tr>\n",
       "    <tr>\n",
       "      <th>4</th>\n",
       "      <td>96395</td>\n",
       "      <td>1352.6740</td>\n",
       "      <td>515.8730</td>\n",
       "      <td>246.5945</td>\n",
       "      <td>0.8784</td>\n",
       "      <td>350.3340</td>\n",
       "      <td>0.9549</td>\n",
       "      <td>100950</td>\n",
       "      <td>0.7428</td>\n",
       "      <td>2.0920</td>\n",
       "      <td>0.6620</td>\n",
       "      <td>0.6791</td>\n",
       "      <td>0.0054</td>\n",
       "      <td>0.0026</td>\n",
       "      <td>0.4612</td>\n",
       "      <td>0.9648</td>\n",
       "    </tr>\n",
       "    <tr>\n",
       "      <th>...</th>\n",
       "      <td>...</td>\n",
       "      <td>...</td>\n",
       "      <td>...</td>\n",
       "      <td>...</td>\n",
       "      <td>...</td>\n",
       "      <td>...</td>\n",
       "      <td>...</td>\n",
       "      <td>...</td>\n",
       "      <td>...</td>\n",
       "      <td>...</td>\n",
       "      <td>...</td>\n",
       "      <td>...</td>\n",
       "      <td>...</td>\n",
       "      <td>...</td>\n",
       "      <td>...</td>\n",
       "      <td>...</td>\n",
       "    </tr>\n",
       "    <tr>\n",
       "      <th>1713</th>\n",
       "      <td>65570</td>\n",
       "      <td>2071.4451</td>\n",
       "      <td>418.0258</td>\n",
       "      <td>217.1458</td>\n",
       "      <td>0.8545</td>\n",
       "      <td>288.9400</td>\n",
       "      <td>0.8976</td>\n",
       "      <td>73054</td>\n",
       "      <td>0.5945</td>\n",
       "      <td>1.9251</td>\n",
       "      <td>0.1920</td>\n",
       "      <td>0.6912</td>\n",
       "      <td>0.0064</td>\n",
       "      <td>0.0033</td>\n",
       "      <td>0.4778</td>\n",
       "      <td>0.9197</td>\n",
       "    </tr>\n",
       "    <tr>\n",
       "      <th>1714</th>\n",
       "      <td>68849</td>\n",
       "      <td>1441.2590</td>\n",
       "      <td>451.0457</td>\n",
       "      <td>205.2553</td>\n",
       "      <td>0.8905</td>\n",
       "      <td>296.0764</td>\n",
       "      <td>0.9340</td>\n",
       "      <td>73716</td>\n",
       "      <td>0.6459</td>\n",
       "      <td>2.1975</td>\n",
       "      <td>0.4165</td>\n",
       "      <td>0.6564</td>\n",
       "      <td>0.0066</td>\n",
       "      <td>0.0030</td>\n",
       "      <td>0.4309</td>\n",
       "      <td>0.9469</td>\n",
       "    </tr>\n",
       "    <tr>\n",
       "      <th>1715</th>\n",
       "      <td>90270</td>\n",
       "      <td>1370.5380</td>\n",
       "      <td>428.9636</td>\n",
       "      <td>269.8232</td>\n",
       "      <td>0.7774</td>\n",
       "      <td>339.0211</td>\n",
       "      <td>0.9722</td>\n",
       "      <td>92847</td>\n",
       "      <td>0.7400</td>\n",
       "      <td>1.5898</td>\n",
       "      <td>0.6039</td>\n",
       "      <td>0.7903</td>\n",
       "      <td>0.0048</td>\n",
       "      <td>0.0030</td>\n",
       "      <td>0.6246</td>\n",
       "      <td>0.9930</td>\n",
       "    </tr>\n",
       "    <tr>\n",
       "      <th>1716</th>\n",
       "      <td>73148</td>\n",
       "      <td>1309.8430</td>\n",
       "      <td>469.0491</td>\n",
       "      <td>208.3141</td>\n",
       "      <td>0.8960</td>\n",
       "      <td>305.1801</td>\n",
       "      <td>0.9376</td>\n",
       "      <td>78014</td>\n",
       "      <td>0.6341</td>\n",
       "      <td>2.2516</td>\n",
       "      <td>0.5358</td>\n",
       "      <td>0.6506</td>\n",
       "      <td>0.0064</td>\n",
       "      <td>0.0028</td>\n",
       "      <td>0.4233</td>\n",
       "      <td>0.9532</td>\n",
       "    </tr>\n",
       "    <tr>\n",
       "      <th>1717</th>\n",
       "      <td>78780</td>\n",
       "      <td>1324.8831</td>\n",
       "      <td>451.5905</td>\n",
       "      <td>239.3016</td>\n",
       "      <td>0.8481</td>\n",
       "      <td>316.7109</td>\n",
       "      <td>0.9328</td>\n",
       "      <td>84454</td>\n",
       "      <td>0.7021</td>\n",
       "      <td>1.8871</td>\n",
       "      <td>0.5640</td>\n",
       "      <td>0.7013</td>\n",
       "      <td>0.0057</td>\n",
       "      <td>0.0030</td>\n",
       "      <td>0.4919</td>\n",
       "      <td>0.9282</td>\n",
       "    </tr>\n",
       "  </tbody>\n",
       "</table>\n",
       "<p>1718 rows × 16 columns</p>\n",
       "</div>"
      ],
      "text/plain": [
       "       AREA  PERIMETER  MAJOR_AXIS  MINOR_AXIS  ECCENTRICITY   EQDIASQ  \\\n",
       "0     73107  1161.8070    442.4074    217.7261        0.8705  305.0946   \n",
       "1     89272  1173.1810    460.2551    251.9546        0.8369  337.1419   \n",
       "2     60955   999.7890    386.9247    209.1255        0.8414  278.5863   \n",
       "3     79537  1439.5129    466.7973    221.2136        0.8806  318.2289   \n",
       "4     96395  1352.6740    515.8730    246.5945        0.8784  350.3340   \n",
       "...     ...        ...         ...         ...           ...       ...   \n",
       "1713  65570  2071.4451    418.0258    217.1458        0.8545  288.9400   \n",
       "1714  68849  1441.2590    451.0457    205.2553        0.8905  296.0764   \n",
       "1715  90270  1370.5380    428.9636    269.8232        0.7774  339.0211   \n",
       "1716  73148  1309.8430    469.0491    208.3141        0.8960  305.1801   \n",
       "1717  78780  1324.8831    451.5905    239.3016        0.8481  316.7109   \n",
       "\n",
       "      SOLIDITY  CONVEX_AREA  EXTENT  ASPECT_RATIO  ROUNDNESS  COMPACTNESS  \\\n",
       "0       0.9424        77579  0.7710        2.0319     0.6806       0.6896   \n",
       "1       0.9641        92598  0.7584        1.8267     0.8151       0.7325   \n",
       "2       0.9465        64400  0.7263        1.8502     0.7663       0.7200   \n",
       "3       0.9437        84281  0.7568        2.1102     0.4823       0.6817   \n",
       "4       0.9549       100950  0.7428        2.0920     0.6620       0.6791   \n",
       "...        ...          ...     ...           ...        ...          ...   \n",
       "1713    0.8976        73054  0.5945        1.9251     0.1920       0.6912   \n",
       "1714    0.9340        73716  0.6459        2.1975     0.4165       0.6564   \n",
       "1715    0.9722        92847  0.7400        1.5898     0.6039       0.7903   \n",
       "1716    0.9376        78014  0.6341        2.2516     0.5358       0.6506   \n",
       "1717    0.9328        84454  0.7021        1.8871     0.5640       0.7013   \n",
       "\n",
       "      SHAPEFACTOR_1  SHAPEFACTOR_2  SHAPEFACTOR_3  SHAPEFACTOR_4  \n",
       "0            0.0061         0.0030         0.4756         0.9664  \n",
       "1            0.0052         0.0028         0.5366         0.9802  \n",
       "2            0.0063         0.0034         0.5184         0.9591  \n",
       "3            0.0059         0.0028         0.4648         0.9807  \n",
       "4            0.0054         0.0026         0.4612         0.9648  \n",
       "...             ...            ...            ...            ...  \n",
       "1713         0.0064         0.0033         0.4778         0.9197  \n",
       "1714         0.0066         0.0030         0.4309         0.9469  \n",
       "1715         0.0048         0.0030         0.6246         0.9930  \n",
       "1716         0.0064         0.0028         0.4233         0.9532  \n",
       "1717         0.0057         0.0030         0.4919         0.9282  \n",
       "\n",
       "[1718 rows x 16 columns]"
      ]
     },
     "execution_count": 10,
     "metadata": {},
     "output_type": "execute_result"
    }
   ],
   "source": [
    "X"
   ]
  },
  {
   "cell_type": "code",
   "execution_count": null,
   "id": "5ddfff85",
   "metadata": {
    "papermill": {
     "duration": 0.018445,
     "end_time": "2023-07-10T06:54:17.516267",
     "exception": false,
     "start_time": "2023-07-10T06:54:17.497822",
     "status": "completed"
    },
    "tags": []
   },
   "outputs": [],
   "source": []
  },
  {
   "cell_type": "code",
   "execution_count": 11,
   "id": "1fc1aeb3",
   "metadata": {
    "execution": {
     "iopub.execute_input": "2023-07-10T06:54:17.556967Z",
     "iopub.status.busy": "2023-07-10T06:54:17.556543Z",
     "iopub.status.idle": "2023-07-10T06:54:17.564953Z",
     "shell.execute_reply": "2023-07-10T06:54:17.563870Z"
    },
    "papermill": {
     "duration": 0.031414,
     "end_time": "2023-07-10T06:54:17.567600",
     "exception": false,
     "start_time": "2023-07-10T06:54:17.536186",
     "status": "completed"
    },
    "tags": []
   },
   "outputs": [],
   "source": [
    "X_train,X_test,y_train,y_test=train_test_split(X,y,test_size=0.3,random_state=42)"
   ]
  },
  {
   "cell_type": "code",
   "execution_count": 12,
   "id": "eaea106e",
   "metadata": {
    "execution": {
     "iopub.execute_input": "2023-07-10T06:54:17.605490Z",
     "iopub.status.busy": "2023-07-10T06:54:17.604838Z",
     "iopub.status.idle": "2023-07-10T06:54:17.637928Z",
     "shell.execute_reply": "2023-07-10T06:54:17.636560Z"
    },
    "papermill": {
     "duration": 0.05516,
     "end_time": "2023-07-10T06:54:17.640697",
     "exception": false,
     "start_time": "2023-07-10T06:54:17.585537",
     "status": "completed"
    },
    "tags": []
   },
   "outputs": [
    {
     "data": {
      "text/html": [
       "<div>\n",
       "<style scoped>\n",
       "    .dataframe tbody tr th:only-of-type {\n",
       "        vertical-align: middle;\n",
       "    }\n",
       "\n",
       "    .dataframe tbody tr th {\n",
       "        vertical-align: top;\n",
       "    }\n",
       "\n",
       "    .dataframe thead th {\n",
       "        text-align: right;\n",
       "    }\n",
       "</style>\n",
       "<table border=\"1\" class=\"dataframe\">\n",
       "  <thead>\n",
       "    <tr style=\"text-align: right;\">\n",
       "      <th></th>\n",
       "      <th>AREA</th>\n",
       "      <th>PERIMETER</th>\n",
       "      <th>MAJOR_AXIS</th>\n",
       "      <th>MINOR_AXIS</th>\n",
       "      <th>ECCENTRICITY</th>\n",
       "      <th>EQDIASQ</th>\n",
       "      <th>SOLIDITY</th>\n",
       "      <th>CONVEX_AREA</th>\n",
       "      <th>EXTENT</th>\n",
       "      <th>ASPECT_RATIO</th>\n",
       "      <th>ROUNDNESS</th>\n",
       "      <th>COMPACTNESS</th>\n",
       "      <th>SHAPEFACTOR_1</th>\n",
       "      <th>SHAPEFACTOR_2</th>\n",
       "      <th>SHAPEFACTOR_3</th>\n",
       "      <th>SHAPEFACTOR_4</th>\n",
       "    </tr>\n",
       "  </thead>\n",
       "  <tbody>\n",
       "    <tr>\n",
       "      <th>715</th>\n",
       "      <td>90627</td>\n",
       "      <td>1157.0380</td>\n",
       "      <td>448.3503</td>\n",
       "      <td>258.7116</td>\n",
       "      <td>0.8167</td>\n",
       "      <td>339.6909</td>\n",
       "      <td>0.9861</td>\n",
       "      <td>91901</td>\n",
       "      <td>0.7904</td>\n",
       "      <td>1.7330</td>\n",
       "      <td>0.8507</td>\n",
       "      <td>0.7576</td>\n",
       "      <td>0.0049</td>\n",
       "      <td>0.0029</td>\n",
       "      <td>0.5740</td>\n",
       "      <td>0.9948</td>\n",
       "    </tr>\n",
       "    <tr>\n",
       "      <th>1351</th>\n",
       "      <td>87128</td>\n",
       "      <td>1150.7010</td>\n",
       "      <td>445.1925</td>\n",
       "      <td>252.3783</td>\n",
       "      <td>0.8238</td>\n",
       "      <td>333.0688</td>\n",
       "      <td>0.9912</td>\n",
       "      <td>87901</td>\n",
       "      <td>0.6852</td>\n",
       "      <td>1.7640</td>\n",
       "      <td>0.8269</td>\n",
       "      <td>0.7481</td>\n",
       "      <td>0.0051</td>\n",
       "      <td>0.0029</td>\n",
       "      <td>0.5597</td>\n",
       "      <td>0.9873</td>\n",
       "    </tr>\n",
       "    <tr>\n",
       "      <th>879</th>\n",
       "      <td>91032</td>\n",
       "      <td>1171.5200</td>\n",
       "      <td>420.4451</td>\n",
       "      <td>279.7567</td>\n",
       "      <td>0.7465</td>\n",
       "      <td>340.4490</td>\n",
       "      <td>0.9850</td>\n",
       "      <td>92415</td>\n",
       "      <td>0.7263</td>\n",
       "      <td>1.5029</td>\n",
       "      <td>0.8335</td>\n",
       "      <td>0.8097</td>\n",
       "      <td>0.0046</td>\n",
       "      <td>0.0031</td>\n",
       "      <td>0.6557</td>\n",
       "      <td>0.9854</td>\n",
       "    </tr>\n",
       "    <tr>\n",
       "      <th>1516</th>\n",
       "      <td>73334</td>\n",
       "      <td>1099.4659</td>\n",
       "      <td>413.7380</td>\n",
       "      <td>227.9584</td>\n",
       "      <td>0.8345</td>\n",
       "      <td>305.5679</td>\n",
       "      <td>0.9716</td>\n",
       "      <td>75478</td>\n",
       "      <td>0.7595</td>\n",
       "      <td>1.8150</td>\n",
       "      <td>0.7623</td>\n",
       "      <td>0.7386</td>\n",
       "      <td>0.0056</td>\n",
       "      <td>0.0031</td>\n",
       "      <td>0.5455</td>\n",
       "      <td>0.9900</td>\n",
       "    </tr>\n",
       "    <tr>\n",
       "      <th>327</th>\n",
       "      <td>97686</td>\n",
       "      <td>2266.3850</td>\n",
       "      <td>474.3841</td>\n",
       "      <td>292.3679</td>\n",
       "      <td>0.7875</td>\n",
       "      <td>352.6722</td>\n",
       "      <td>0.8989</td>\n",
       "      <td>108671</td>\n",
       "      <td>0.6967</td>\n",
       "      <td>1.6226</td>\n",
       "      <td>0.2390</td>\n",
       "      <td>0.7434</td>\n",
       "      <td>0.0049</td>\n",
       "      <td>0.0030</td>\n",
       "      <td>0.5527</td>\n",
       "      <td>0.8968</td>\n",
       "    </tr>\n",
       "    <tr>\n",
       "      <th>...</th>\n",
       "      <td>...</td>\n",
       "      <td>...</td>\n",
       "      <td>...</td>\n",
       "      <td>...</td>\n",
       "      <td>...</td>\n",
       "      <td>...</td>\n",
       "      <td>...</td>\n",
       "      <td>...</td>\n",
       "      <td>...</td>\n",
       "      <td>...</td>\n",
       "      <td>...</td>\n",
       "      <td>...</td>\n",
       "      <td>...</td>\n",
       "      <td>...</td>\n",
       "      <td>...</td>\n",
       "      <td>...</td>\n",
       "    </tr>\n",
       "    <tr>\n",
       "      <th>1130</th>\n",
       "      <td>66146</td>\n",
       "      <td>1116.3879</td>\n",
       "      <td>439.9942</td>\n",
       "      <td>200.2433</td>\n",
       "      <td>0.8904</td>\n",
       "      <td>290.2063</td>\n",
       "      <td>0.9361</td>\n",
       "      <td>70660</td>\n",
       "      <td>0.7105</td>\n",
       "      <td>2.1973</td>\n",
       "      <td>0.6669</td>\n",
       "      <td>0.6596</td>\n",
       "      <td>0.0067</td>\n",
       "      <td>0.0030</td>\n",
       "      <td>0.4350</td>\n",
       "      <td>0.9559</td>\n",
       "    </tr>\n",
       "    <tr>\n",
       "      <th>1294</th>\n",
       "      <td>86342</td>\n",
       "      <td>1153.8120</td>\n",
       "      <td>460.5910</td>\n",
       "      <td>239.4560</td>\n",
       "      <td>0.8542</td>\n",
       "      <td>331.5630</td>\n",
       "      <td>0.9907</td>\n",
       "      <td>87153</td>\n",
       "      <td>0.6671</td>\n",
       "      <td>1.9235</td>\n",
       "      <td>0.8150</td>\n",
       "      <td>0.7199</td>\n",
       "      <td>0.0053</td>\n",
       "      <td>0.0028</td>\n",
       "      <td>0.5182</td>\n",
       "      <td>0.9968</td>\n",
       "    </tr>\n",
       "    <tr>\n",
       "      <th>860</th>\n",
       "      <td>73198</td>\n",
       "      <td>1166.6580</td>\n",
       "      <td>450.2952</td>\n",
       "      <td>232.6949</td>\n",
       "      <td>0.8561</td>\n",
       "      <td>305.2844</td>\n",
       "      <td>0.8942</td>\n",
       "      <td>81857</td>\n",
       "      <td>0.6921</td>\n",
       "      <td>1.9351</td>\n",
       "      <td>0.6758</td>\n",
       "      <td>0.6780</td>\n",
       "      <td>0.0062</td>\n",
       "      <td>0.0032</td>\n",
       "      <td>0.4596</td>\n",
       "      <td>0.8895</td>\n",
       "    </tr>\n",
       "    <tr>\n",
       "      <th>1459</th>\n",
       "      <td>75048</td>\n",
       "      <td>1157.5260</td>\n",
       "      <td>456.0540</td>\n",
       "      <td>211.5963</td>\n",
       "      <td>0.8858</td>\n",
       "      <td>309.1182</td>\n",
       "      <td>0.9836</td>\n",
       "      <td>76301</td>\n",
       "      <td>0.7517</td>\n",
       "      <td>2.1553</td>\n",
       "      <td>0.7039</td>\n",
       "      <td>0.6778</td>\n",
       "      <td>0.0061</td>\n",
       "      <td>0.0028</td>\n",
       "      <td>0.4594</td>\n",
       "      <td>0.9902</td>\n",
       "    </tr>\n",
       "    <tr>\n",
       "      <th>1126</th>\n",
       "      <td>83333</td>\n",
       "      <td>1146.9790</td>\n",
       "      <td>457.7629</td>\n",
       "      <td>233.0776</td>\n",
       "      <td>0.8607</td>\n",
       "      <td>325.7343</td>\n",
       "      <td>0.9890</td>\n",
       "      <td>84260</td>\n",
       "      <td>0.8123</td>\n",
       "      <td>1.9640</td>\n",
       "      <td>0.7960</td>\n",
       "      <td>0.7116</td>\n",
       "      <td>0.0055</td>\n",
       "      <td>0.0028</td>\n",
       "      <td>0.5063</td>\n",
       "      <td>0.9945</td>\n",
       "    </tr>\n",
       "  </tbody>\n",
       "</table>\n",
       "<p>1202 rows × 16 columns</p>\n",
       "</div>"
      ],
      "text/plain": [
       "       AREA  PERIMETER  MAJOR_AXIS  MINOR_AXIS  ECCENTRICITY   EQDIASQ  \\\n",
       "715   90627  1157.0380    448.3503    258.7116        0.8167  339.6909   \n",
       "1351  87128  1150.7010    445.1925    252.3783        0.8238  333.0688   \n",
       "879   91032  1171.5200    420.4451    279.7567        0.7465  340.4490   \n",
       "1516  73334  1099.4659    413.7380    227.9584        0.8345  305.5679   \n",
       "327   97686  2266.3850    474.3841    292.3679        0.7875  352.6722   \n",
       "...     ...        ...         ...         ...           ...       ...   \n",
       "1130  66146  1116.3879    439.9942    200.2433        0.8904  290.2063   \n",
       "1294  86342  1153.8120    460.5910    239.4560        0.8542  331.5630   \n",
       "860   73198  1166.6580    450.2952    232.6949        0.8561  305.2844   \n",
       "1459  75048  1157.5260    456.0540    211.5963        0.8858  309.1182   \n",
       "1126  83333  1146.9790    457.7629    233.0776        0.8607  325.7343   \n",
       "\n",
       "      SOLIDITY  CONVEX_AREA  EXTENT  ASPECT_RATIO  ROUNDNESS  COMPACTNESS  \\\n",
       "715     0.9861        91901  0.7904        1.7330     0.8507       0.7576   \n",
       "1351    0.9912        87901  0.6852        1.7640     0.8269       0.7481   \n",
       "879     0.9850        92415  0.7263        1.5029     0.8335       0.8097   \n",
       "1516    0.9716        75478  0.7595        1.8150     0.7623       0.7386   \n",
       "327     0.8989       108671  0.6967        1.6226     0.2390       0.7434   \n",
       "...        ...          ...     ...           ...        ...          ...   \n",
       "1130    0.9361        70660  0.7105        2.1973     0.6669       0.6596   \n",
       "1294    0.9907        87153  0.6671        1.9235     0.8150       0.7199   \n",
       "860     0.8942        81857  0.6921        1.9351     0.6758       0.6780   \n",
       "1459    0.9836        76301  0.7517        2.1553     0.7039       0.6778   \n",
       "1126    0.9890        84260  0.8123        1.9640     0.7960       0.7116   \n",
       "\n",
       "      SHAPEFACTOR_1  SHAPEFACTOR_2  SHAPEFACTOR_3  SHAPEFACTOR_4  \n",
       "715          0.0049         0.0029         0.5740         0.9948  \n",
       "1351         0.0051         0.0029         0.5597         0.9873  \n",
       "879          0.0046         0.0031         0.6557         0.9854  \n",
       "1516         0.0056         0.0031         0.5455         0.9900  \n",
       "327          0.0049         0.0030         0.5527         0.8968  \n",
       "...             ...            ...            ...            ...  \n",
       "1130         0.0067         0.0030         0.4350         0.9559  \n",
       "1294         0.0053         0.0028         0.5182         0.9968  \n",
       "860          0.0062         0.0032         0.4596         0.8895  \n",
       "1459         0.0061         0.0028         0.4594         0.9902  \n",
       "1126         0.0055         0.0028         0.5063         0.9945  \n",
       "\n",
       "[1202 rows x 16 columns]"
      ]
     },
     "execution_count": 12,
     "metadata": {},
     "output_type": "execute_result"
    }
   ],
   "source": [
    "X_train"
   ]
  },
  {
   "cell_type": "code",
   "execution_count": 13,
   "id": "303f824e",
   "metadata": {
    "execution": {
     "iopub.execute_input": "2023-07-10T06:54:17.682815Z",
     "iopub.status.busy": "2023-07-10T06:54:17.681540Z",
     "iopub.status.idle": "2023-07-10T06:54:17.693337Z",
     "shell.execute_reply": "2023-07-10T06:54:17.691696Z"
    },
    "papermill": {
     "duration": 0.037086,
     "end_time": "2023-07-10T06:54:17.697349",
     "exception": false,
     "start_time": "2023-07-10T06:54:17.660263",
     "status": "completed"
    },
    "tags": []
   },
   "outputs": [],
   "source": [
    "scaler=StandardScaler()\n",
    "scaler.fit(X_train)\n",
    "X_train_standard=scaler.transform(X_train)"
   ]
  },
  {
   "cell_type": "code",
   "execution_count": 14,
   "id": "5349d8c5",
   "metadata": {
    "execution": {
     "iopub.execute_input": "2023-07-10T06:54:17.738307Z",
     "iopub.status.busy": "2023-07-10T06:54:17.737893Z",
     "iopub.status.idle": "2023-07-10T06:54:17.745761Z",
     "shell.execute_reply": "2023-07-10T06:54:17.744515Z"
    },
    "papermill": {
     "duration": 0.032454,
     "end_time": "2023-07-10T06:54:17.748428",
     "exception": false,
     "start_time": "2023-07-10T06:54:17.715974",
     "status": "completed"
    },
    "tags": []
   },
   "outputs": [
    {
     "data": {
      "text/plain": [
       "array([[ 0.81852022, -0.6905782 ,  0.08150696, ..., -0.34307676,\n",
       "         0.96395068,  0.78743114],\n",
       "       [ 0.55266166, -0.7084701 , -0.01709819, ..., -0.34307676,\n",
       "         0.74510525,  0.62944511],\n",
       "       [ 0.84929265, -0.64968969, -0.78985806, ...,  0.27149592,\n",
       "         2.21427738,  0.58942198],\n",
       "       ...,\n",
       "       [-0.50575781, -0.66341707,  0.14223821, ...,  0.57878226,\n",
       "        -0.78681277, -1.4306928 ],\n",
       "       [-0.36519241, -0.68920038,  0.32206193, ..., -0.6503631 ,\n",
       "        -0.78987355,  0.69053304],\n",
       "       [ 0.26431264, -0.71897881,  0.37542387, ..., -0.6503631 ,\n",
       "        -0.07212175,  0.7811117 ]])"
      ]
     },
     "execution_count": 14,
     "metadata": {},
     "output_type": "execute_result"
    }
   ],
   "source": [
    "X_train_standard"
   ]
  },
  {
   "cell_type": "code",
   "execution_count": 15,
   "id": "02b73205",
   "metadata": {
    "execution": {
     "iopub.execute_input": "2023-07-10T06:54:17.787961Z",
     "iopub.status.busy": "2023-07-10T06:54:17.787517Z",
     "iopub.status.idle": "2023-07-10T06:54:17.799273Z",
     "shell.execute_reply": "2023-07-10T06:54:17.797797Z"
    },
    "papermill": {
     "duration": 0.035017,
     "end_time": "2023-07-10T06:54:17.802131",
     "exception": false,
     "start_time": "2023-07-10T06:54:17.767114",
     "status": "completed"
    },
    "tags": []
   },
   "outputs": [],
   "source": [
    "scaler=StandardScaler()\n",
    "scaler.fit(X_test)\n",
    "X_test_standard=scaler.transform(X_test)"
   ]
  },
  {
   "cell_type": "code",
   "execution_count": 16,
   "id": "35b42edc",
   "metadata": {
    "execution": {
     "iopub.execute_input": "2023-07-10T06:54:17.843697Z",
     "iopub.status.busy": "2023-07-10T06:54:17.843244Z",
     "iopub.status.idle": "2023-07-10T06:54:18.158256Z",
     "shell.execute_reply": "2023-07-10T06:54:18.157041Z"
    },
    "papermill": {
     "duration": 0.339008,
     "end_time": "2023-07-10T06:54:18.161186",
     "exception": false,
     "start_time": "2023-07-10T06:54:17.822178",
     "status": "completed"
    },
    "tags": []
   },
   "outputs": [],
   "source": [
    "from sklearn.tree import DecisionTreeClassifier"
   ]
  },
  {
   "cell_type": "code",
   "execution_count": 17,
   "id": "4c943863",
   "metadata": {
    "execution": {
     "iopub.execute_input": "2023-07-10T06:54:18.201236Z",
     "iopub.status.busy": "2023-07-10T06:54:18.200798Z",
     "iopub.status.idle": "2023-07-10T06:54:18.223722Z",
     "shell.execute_reply": "2023-07-10T06:54:18.222378Z"
    },
    "papermill": {
     "duration": 0.045658,
     "end_time": "2023-07-10T06:54:18.226474",
     "exception": false,
     "start_time": "2023-07-10T06:54:18.180816",
     "status": "completed"
    },
    "tags": []
   },
   "outputs": [
    {
     "data": {
      "text/html": [
       "<style>#sk-container-id-1 {color: black;background-color: white;}#sk-container-id-1 pre{padding: 0;}#sk-container-id-1 div.sk-toggleable {background-color: white;}#sk-container-id-1 label.sk-toggleable__label {cursor: pointer;display: block;width: 100%;margin-bottom: 0;padding: 0.3em;box-sizing: border-box;text-align: center;}#sk-container-id-1 label.sk-toggleable__label-arrow:before {content: \"▸\";float: left;margin-right: 0.25em;color: #696969;}#sk-container-id-1 label.sk-toggleable__label-arrow:hover:before {color: black;}#sk-container-id-1 div.sk-estimator:hover label.sk-toggleable__label-arrow:before {color: black;}#sk-container-id-1 div.sk-toggleable__content {max-height: 0;max-width: 0;overflow: hidden;text-align: left;background-color: #f0f8ff;}#sk-container-id-1 div.sk-toggleable__content pre {margin: 0.2em;color: black;border-radius: 0.25em;background-color: #f0f8ff;}#sk-container-id-1 input.sk-toggleable__control:checked~div.sk-toggleable__content {max-height: 200px;max-width: 100%;overflow: auto;}#sk-container-id-1 input.sk-toggleable__control:checked~label.sk-toggleable__label-arrow:before {content: \"▾\";}#sk-container-id-1 div.sk-estimator input.sk-toggleable__control:checked~label.sk-toggleable__label {background-color: #d4ebff;}#sk-container-id-1 div.sk-label input.sk-toggleable__control:checked~label.sk-toggleable__label {background-color: #d4ebff;}#sk-container-id-1 input.sk-hidden--visually {border: 0;clip: rect(1px 1px 1px 1px);clip: rect(1px, 1px, 1px, 1px);height: 1px;margin: -1px;overflow: hidden;padding: 0;position: absolute;width: 1px;}#sk-container-id-1 div.sk-estimator {font-family: monospace;background-color: #f0f8ff;border: 1px dotted black;border-radius: 0.25em;box-sizing: border-box;margin-bottom: 0.5em;}#sk-container-id-1 div.sk-estimator:hover {background-color: #d4ebff;}#sk-container-id-1 div.sk-parallel-item::after {content: \"\";width: 100%;border-bottom: 1px solid gray;flex-grow: 1;}#sk-container-id-1 div.sk-label:hover label.sk-toggleable__label {background-color: #d4ebff;}#sk-container-id-1 div.sk-serial::before {content: \"\";position: absolute;border-left: 1px solid gray;box-sizing: border-box;top: 0;bottom: 0;left: 50%;z-index: 0;}#sk-container-id-1 div.sk-serial {display: flex;flex-direction: column;align-items: center;background-color: white;padding-right: 0.2em;padding-left: 0.2em;position: relative;}#sk-container-id-1 div.sk-item {position: relative;z-index: 1;}#sk-container-id-1 div.sk-parallel {display: flex;align-items: stretch;justify-content: center;background-color: white;position: relative;}#sk-container-id-1 div.sk-item::before, #sk-container-id-1 div.sk-parallel-item::before {content: \"\";position: absolute;border-left: 1px solid gray;box-sizing: border-box;top: 0;bottom: 0;left: 50%;z-index: -1;}#sk-container-id-1 div.sk-parallel-item {display: flex;flex-direction: column;z-index: 1;position: relative;background-color: white;}#sk-container-id-1 div.sk-parallel-item:first-child::after {align-self: flex-end;width: 50%;}#sk-container-id-1 div.sk-parallel-item:last-child::after {align-self: flex-start;width: 50%;}#sk-container-id-1 div.sk-parallel-item:only-child::after {width: 0;}#sk-container-id-1 div.sk-dashed-wrapped {border: 1px dashed gray;margin: 0 0.4em 0.5em 0.4em;box-sizing: border-box;padding-bottom: 0.4em;background-color: white;}#sk-container-id-1 div.sk-label label {font-family: monospace;font-weight: bold;display: inline-block;line-height: 1.2em;}#sk-container-id-1 div.sk-label-container {text-align: center;}#sk-container-id-1 div.sk-container {/* jupyter's `normalize.less` sets `[hidden] { display: none; }` but bootstrap.min.css set `[hidden] { display: none !important; }` so we also need the `!important` here to be able to override the default hidden behavior on the sphinx rendered scikit-learn.org. See: https://github.com/scikit-learn/scikit-learn/issues/21755 */display: inline-block !important;position: relative;}#sk-container-id-1 div.sk-text-repr-fallback {display: none;}</style><div id=\"sk-container-id-1\" class=\"sk-top-container\"><div class=\"sk-text-repr-fallback\"><pre>DecisionTreeClassifier(max_depth=2)</pre><b>In a Jupyter environment, please rerun this cell to show the HTML representation or trust the notebook. <br />On GitHub, the HTML representation is unable to render, please try loading this page with nbviewer.org.</b></div><div class=\"sk-container\" hidden><div class=\"sk-item\"><div class=\"sk-estimator sk-toggleable\"><input class=\"sk-toggleable__control sk-hidden--visually\" id=\"sk-estimator-id-1\" type=\"checkbox\" checked><label for=\"sk-estimator-id-1\" class=\"sk-toggleable__label sk-toggleable__label-arrow\">DecisionTreeClassifier</label><div class=\"sk-toggleable__content\"><pre>DecisionTreeClassifier(max_depth=2)</pre></div></div></div></div></div>"
      ],
      "text/plain": [
       "DecisionTreeClassifier(max_depth=2)"
      ]
     },
     "execution_count": 17,
     "metadata": {},
     "output_type": "execute_result"
    }
   ],
   "source": [
    "dtree_model=DecisionTreeClassifier(max_depth=2)\n",
    "dtree_model.fit(X_train_standard,y_train)"
   ]
  },
  {
   "cell_type": "code",
   "execution_count": 18,
   "id": "79672482",
   "metadata": {
    "execution": {
     "iopub.execute_input": "2023-07-10T06:54:18.268487Z",
     "iopub.status.busy": "2023-07-10T06:54:18.268103Z",
     "iopub.status.idle": "2023-07-10T06:54:18.274158Z",
     "shell.execute_reply": "2023-07-10T06:54:18.273011Z"
    },
    "papermill": {
     "duration": 0.029469,
     "end_time": "2023-07-10T06:54:18.276508",
     "exception": false,
     "start_time": "2023-07-10T06:54:18.247039",
     "status": "completed"
    },
    "tags": []
   },
   "outputs": [],
   "source": [
    "y_pred=dtree_model.predict(X_test_standard)"
   ]
  },
  {
   "cell_type": "code",
   "execution_count": 19,
   "id": "012a5a14",
   "metadata": {
    "execution": {
     "iopub.execute_input": "2023-07-10T06:54:18.317200Z",
     "iopub.status.busy": "2023-07-10T06:54:18.316799Z",
     "iopub.status.idle": "2023-07-10T06:54:18.323162Z",
     "shell.execute_reply": "2023-07-10T06:54:18.321913Z"
    },
    "papermill": {
     "duration": 0.029726,
     "end_time": "2023-07-10T06:54:18.325862",
     "exception": false,
     "start_time": "2023-07-10T06:54:18.296136",
     "status": "completed"
    },
    "tags": []
   },
   "outputs": [],
   "source": [
    "from sklearn.metrics import confusion_matrix\n",
    "from sklearn.metrics import accuracy_score"
   ]
  },
  {
   "cell_type": "code",
   "execution_count": 20,
   "id": "175beddd",
   "metadata": {
    "execution": {
     "iopub.execute_input": "2023-07-10T06:54:18.366397Z",
     "iopub.status.busy": "2023-07-10T06:54:18.365972Z",
     "iopub.status.idle": "2023-07-10T06:54:18.379912Z",
     "shell.execute_reply": "2023-07-10T06:54:18.378357Z"
    },
    "papermill": {
     "duration": 0.037195,
     "end_time": "2023-07-10T06:54:18.382377",
     "exception": false,
     "start_time": "2023-07-10T06:54:18.345182",
     "status": "completed"
    },
    "tags": []
   },
   "outputs": [
    {
     "data": {
      "text/plain": [
       "array([[270,  25],\n",
       "       [ 46, 175]])"
      ]
     },
     "execution_count": 20,
     "metadata": {},
     "output_type": "execute_result"
    }
   ],
   "source": [
    "cm=confusion_matrix(y_test,y_pred)\n",
    "cm"
   ]
  },
  {
   "cell_type": "code",
   "execution_count": 21,
   "id": "bb8775db",
   "metadata": {
    "execution": {
     "iopub.execute_input": "2023-07-10T06:54:18.423480Z",
     "iopub.status.busy": "2023-07-10T06:54:18.423039Z",
     "iopub.status.idle": "2023-07-10T06:54:18.790153Z",
     "shell.execute_reply": "2023-07-10T06:54:18.788557Z"
    },
    "papermill": {
     "duration": 0.390874,
     "end_time": "2023-07-10T06:54:18.792925",
     "exception": false,
     "start_time": "2023-07-10T06:54:18.402051",
     "status": "completed"
    },
    "tags": []
   },
   "outputs": [
    {
     "data": {
      "image/png": "[encoded data removed]",
      "text/plain": [
       "<Figure size 600x600 with 2 Axes>"
      ]
     },
     "metadata": {},
     "output_type": "display_data"
    }
   ],
   "source": [
    "import itertools\n",
    "# Calculate the confusion matrix\n",
    "cm = confusion_matrix(y_test, y_pred)\n",
    "\n",
    "# Create a figure and axis object\n",
    "fig, ax = plt.subplots(figsize=(6, 6))\n",
    "\n",
    "# Plot the confusion matrix with a colorbar\n",
    "im = ax.imshow(cm, interpolation='nearest', cmap='viridis')\n",
    "fig.colorbar(im)\n",
    "\n",
    "# Loop over the matrix and add text annotations\n",
    "for i, j in itertools.product(range(cm.shape[0]), range(cm.shape[1])):\n",
    "    ax.text(j, i,cm[i, j],\n",
    "             horizontalalignment=\"center\",\n",
    "             color=\"white\")\n",
    "\n",
    "# Add axis labels\n",
    "ax.set_xticks(range(2))\n",
    "#ax.set_xticklabels(['True Positive', 'True Nagetive'])\n",
    "ax.set_yticks(range(2))\n",
    "#ax.set_yticklabels(['False Negative','False Positive'])\n",
    "\n",
    "# Set the axis titles\n",
    "plt.ylabel('True label')\n",
    "plt.xlabel('Predicted label')\n",
    "plt.title('Confusion Matrix')\n",
    "\n",
    "# Display the plot\n",
    "plt.show()"
   ]
  },
  {
   "cell_type": "code",
   "execution_count": 22,
   "id": "2a2c72cb",
   "metadata": {
    "execution": {
     "iopub.execute_input": "2023-07-10T06:54:18.835889Z",
     "iopub.status.busy": "2023-07-10T06:54:18.835442Z",
     "iopub.status.idle": "2023-07-10T06:54:18.847225Z",
     "shell.execute_reply": "2023-07-10T06:54:18.845926Z"
    },
    "papermill": {
     "duration": 0.036591,
     "end_time": "2023-07-10T06:54:18.849519",
     "exception": false,
     "start_time": "2023-07-10T06:54:18.812928",
     "status": "completed"
    },
    "tags": []
   },
   "outputs": [
    {
     "data": {
      "text/plain": [
       "0.8624031007751938"
      ]
     },
     "execution_count": 22,
     "metadata": {},
     "output_type": "execute_result"
    }
   ],
   "source": [
    "accuracy_score(y_test,y_pred)"
   ]
  },
  {
   "cell_type": "code",
   "execution_count": 23,
   "id": "a67bb21c",
   "metadata": {
    "execution": {
     "iopub.execute_input": "2023-07-10T06:54:18.892446Z",
     "iopub.status.busy": "2023-07-10T06:54:18.892073Z",
     "iopub.status.idle": "2023-07-10T06:54:18.897148Z",
     "shell.execute_reply": "2023-07-10T06:54:18.895956Z"
    },
    "papermill": {
     "duration": 0.029281,
     "end_time": "2023-07-10T06:54:18.899942",
     "exception": false,
     "start_time": "2023-07-10T06:54:18.870661",
     "status": "completed"
    },
    "tags": []
   },
   "outputs": [],
   "source": [
    "from sklearn.neighbors import KNeighborsClassifier"
   ]
  },
  {
   "cell_type": "code",
   "execution_count": 24,
   "id": "9ac79e26",
   "metadata": {
    "execution": {
     "iopub.execute_input": "2023-07-10T06:54:18.942180Z",
     "iopub.status.busy": "2023-07-10T06:54:18.941797Z",
     "iopub.status.idle": "2023-07-10T06:54:18.952921Z",
     "shell.execute_reply": "2023-07-10T06:54:18.951592Z"
    },
    "papermill": {
     "duration": 0.036777,
     "end_time": "2023-07-10T06:54:18.956266",
     "exception": false,
     "start_time": "2023-07-10T06:54:18.919489",
     "status": "completed"
    },
    "tags": []
   },
   "outputs": [
    {
     "data": {
      "text/html": [
       "<style>#sk-container-id-2 {color: black;background-color: white;}#sk-container-id-2 pre{padding: 0;}#sk-container-id-2 div.sk-toggleable {background-color: white;}#sk-container-id-2 label.sk-toggleable__label {cursor: pointer;display: block;width: 100%;margin-bottom: 0;padding: 0.3em;box-sizing: border-box;text-align: center;}#sk-container-id-2 label.sk-toggleable__label-arrow:before {content: \"▸\";float: left;margin-right: 0.25em;color: #696969;}#sk-container-id-2 label.sk-toggleable__label-arrow:hover:before {color: black;}#sk-container-id-2 div.sk-estimator:hover label.sk-toggleable__label-arrow:before {color: black;}#sk-container-id-2 div.sk-toggleable__content {max-height: 0;max-width: 0;overflow: hidden;text-align: left;background-color: #f0f8ff;}#sk-container-id-2 div.sk-toggleable__content pre {margin: 0.2em;color: black;border-radius: 0.25em;background-color: #f0f8ff;}#sk-container-id-2 input.sk-toggleable__control:checked~div.sk-toggleable__content {max-height: 200px;max-width: 100%;overflow: auto;}#sk-container-id-2 input.sk-toggleable__control:checked~label.sk-toggleable__label-arrow:before {content: \"▾\";}#sk-container-id-2 div.sk-estimator input.sk-toggleable__control:checked~label.sk-toggleable__label {background-color: #d4ebff;}#sk-container-id-2 div.sk-label input.sk-toggleable__control:checked~label.sk-toggleable__label {background-color: #d4ebff;}#sk-container-id-2 input.sk-hidden--visually {border: 0;clip: rect(1px 1px 1px 1px);clip: rect(1px, 1px, 1px, 1px);height: 1px;margin: -1px;overflow: hidden;padding: 0;position: absolute;width: 1px;}#sk-container-id-2 div.sk-estimator {font-family: monospace;background-color: #f0f8ff;border: 1px dotted black;border-radius: 0.25em;box-sizing: border-box;margin-bottom: 0.5em;}#sk-container-id-2 div.sk-estimator:hover {background-color: #d4ebff;}#sk-container-id-2 div.sk-parallel-item::after {content: \"\";width: 100%;border-bottom: 1px solid gray;flex-grow: 1;}#sk-container-id-2 div.sk-label:hover label.sk-toggleable__label {background-color: #d4ebff;}#sk-container-id-2 div.sk-serial::before {content: \"\";position: absolute;border-left: 1px solid gray;box-sizing: border-box;top: 0;bottom: 0;left: 50%;z-index: 0;}#sk-container-id-2 div.sk-serial {display: flex;flex-direction: column;align-items: center;background-color: white;padding-right: 0.2em;padding-left: 0.2em;position: relative;}#sk-container-id-2 div.sk-item {position: relative;z-index: 1;}#sk-container-id-2 div.sk-parallel {display: flex;align-items: stretch;justify-content: center;background-color: white;position: relative;}#sk-container-id-2 div.sk-item::before, #sk-container-id-2 div.sk-parallel-item::before {content: \"\";position: absolute;border-left: 1px solid gray;box-sizing: border-box;top: 0;bottom: 0;left: 50%;z-index: -1;}#sk-container-id-2 div.sk-parallel-item {display: flex;flex-direction: column;z-index: 1;position: relative;background-color: white;}#sk-container-id-2 div.sk-parallel-item:first-child::after {align-self: flex-end;width: 50%;}#sk-container-id-2 div.sk-parallel-item:last-child::after {align-self: flex-start;width: 50%;}#sk-container-id-2 div.sk-parallel-item:only-child::after {width: 0;}#sk-container-id-2 div.sk-dashed-wrapped {border: 1px dashed gray;margin: 0 0.4em 0.5em 0.4em;box-sizing: border-box;padding-bottom: 0.4em;background-color: white;}#sk-container-id-2 div.sk-label label {font-family: monospace;font-weight: bold;display: inline-block;line-height: 1.2em;}#sk-container-id-2 div.sk-label-container {text-align: center;}#sk-container-id-2 div.sk-container {/* jupyter's `normalize.less` sets `[hidden] { display: none; }` but bootstrap.min.css set `[hidden] { display: none !important; }` so we also need the `!important` here to be able to override the default hidden behavior on the sphinx rendered scikit-learn.org. See: https://github.com/scikit-learn/scikit-learn/issues/21755 */display: inline-block !important;position: relative;}#sk-container-id-2 div.sk-text-repr-fallback {display: none;}</style><div id=\"sk-container-id-2\" class=\"sk-top-container\"><div class=\"sk-text-repr-fallback\"><pre>KNeighborsClassifier()</pre><b>In a Jupyter environment, please rerun this cell to show the HTML representation or trust the notebook. <br />On GitHub, the HTML representation is unable to render, please try loading this page with nbviewer.org.</b></div><div class=\"sk-container\" hidden><div class=\"sk-item\"><div class=\"sk-estimator sk-toggleable\"><input class=\"sk-toggleable__control sk-hidden--visually\" id=\"sk-estimator-id-2\" type=\"checkbox\" checked><label for=\"sk-estimator-id-2\" class=\"sk-toggleable__label sk-toggleable__label-arrow\">KNeighborsClassifier</label><div class=\"sk-toggleable__content\"><pre>KNeighborsClassifier()</pre></div></div></div></div></div>"
      ],
      "text/plain": [
       "KNeighborsClassifier()"
      ]
     },
     "execution_count": 24,
     "metadata": {},
     "output_type": "execute_result"
    }
   ],
   "source": [
    "knn=KNeighborsClassifier(n_neighbors=5)\n",
    "knn.fit(X_train_standard,y_train)"
   ]
  },
  {
   "cell_type": "code",
   "execution_count": 25,
   "id": "e67221ad",
   "metadata": {
    "execution": {
     "iopub.execute_input": "2023-07-10T06:54:19.000547Z",
     "iopub.status.busy": "2023-07-10T06:54:19.000145Z",
     "iopub.status.idle": "2023-07-10T06:54:19.106545Z",
     "shell.execute_reply": "2023-07-10T06:54:19.105574Z"
    },
    "papermill": {
     "duration": 0.131809,
     "end_time": "2023-07-10T06:54:19.109344",
     "exception": false,
     "start_time": "2023-07-10T06:54:18.977535",
     "status": "completed"
    },
    "tags": []
   },
   "outputs": [],
   "source": [
    "y_pred_1=knn.predict(X_test_standard)"
   ]
  },
  {
   "cell_type": "code",
   "execution_count": 26,
   "id": "00e2bcc1",
   "metadata": {
    "execution": {
     "iopub.execute_input": "2023-07-10T06:54:19.152687Z",
     "iopub.status.busy": "2023-07-10T06:54:19.151564Z",
     "iopub.status.idle": "2023-07-10T06:54:19.160311Z",
     "shell.execute_reply": "2023-07-10T06:54:19.159202Z"
    },
    "papermill": {
     "duration": 0.032821,
     "end_time": "2023-07-10T06:54:19.162918",
     "exception": false,
     "start_time": "2023-07-10T06:54:19.130097",
     "status": "completed"
    },
    "tags": []
   },
   "outputs": [
    {
     "data": {
      "text/plain": [
       "0.8798449612403101"
      ]
     },
     "execution_count": 26,
     "metadata": {},
     "output_type": "execute_result"
    }
   ],
   "source": [
    "accuracy_score(y_test,y_pred_1)"
   ]
  },
  {
   "cell_type": "code",
   "execution_count": 27,
   "id": "3af9f69c",
   "metadata": {
    "execution": {
     "iopub.execute_input": "2023-07-10T06:54:19.205077Z",
     "iopub.status.busy": "2023-07-10T06:54:19.204624Z",
     "iopub.status.idle": "2023-07-10T06:54:19.523892Z",
     "shell.execute_reply": "2023-07-10T06:54:19.522412Z"
    },
    "papermill": {
     "duration": 0.34364,
     "end_time": "2023-07-10T06:54:19.526738",
     "exception": false,
     "start_time": "2023-07-10T06:54:19.183098",
     "status": "completed"
    },
    "tags": []
   },
   "outputs": [
    {
     "data": {
      "image/png": "[encoded data removed]",
      "text/plain": [
       "<Figure size 600x600 with 2 Axes>"
      ]
     },
     "metadata": {},
     "output_type": "display_data"
    }
   ],
   "source": [
    "import itertools\n",
    "# Calculate the confusion matrix\n",
    "cm = confusion_matrix(y_test, y_pred_1)\n",
    "\n",
    "# Create a figure and axis object\n",
    "fig, ax = plt.subplots(figsize=(6, 6))\n",
    "\n",
    "\n",
    "# Plot the confusion matrix with a colorbar\n",
    "im = ax.imshow(cm, interpolation='nearest', cmap='viridis')\n",
    "fig.colorbar(im)\n",
    "\n",
    "# Loop over the matrix and add text annotations\n",
    "for i, j in itertools.product(range(cm.shape[0]), range(cm.shape[1])):\n",
    "    ax.text(j, i,cm[i, j],\n",
    "             horizontalalignment=\"center\",\n",
    "             color=\"white\")\n",
    "\n",
    "# Add axis labels\n",
    "ax.set_xticks(range(2))\n",
    "#ax.set_xticklabels(['True Positive', 'True Nagetive'])\n",
    "ax.set_yticks(range(2))\n",
    "#ax.set_yticklabels(['False Negative','False Positive'])\n",
    "\n",
    "# Set the axis titles\n",
    "plt.ylabel('True label')\n",
    "plt.xlabel('Predicted label')\n",
    "plt.title('Confusion Matrix')\n",
    "plt.show()"
   ]
  },
  {
   "cell_type": "code",
   "execution_count": 28,
   "id": "592cdd12",
   "metadata": {
    "execution": {
     "iopub.execute_input": "2023-07-10T06:54:19.571125Z",
     "iopub.status.busy": "2023-07-10T06:54:19.570457Z",
     "iopub.status.idle": "2023-07-10T06:54:19.588501Z",
     "shell.execute_reply": "2023-07-10T06:54:19.587324Z"
    },
    "papermill": {
     "duration": 0.04377,
     "end_time": "2023-07-10T06:54:19.591225",
     "exception": false,
     "start_time": "2023-07-10T06:54:19.547455",
     "status": "completed"
    },
    "tags": []
   },
   "outputs": [],
   "source": [
    "from sklearn.naive_bayes import GaussianNB\n",
    "gnb=GaussianNB().fit(X_train_standard,y_train)"
   ]
  },
  {
   "cell_type": "code",
   "execution_count": 29,
   "id": "07bf0bf3",
   "metadata": {
    "execution": {
     "iopub.execute_input": "2023-07-10T06:54:19.635065Z",
     "iopub.status.busy": "2023-07-10T06:54:19.634303Z",
     "iopub.status.idle": "2023-07-10T06:54:19.640472Z",
     "shell.execute_reply": "2023-07-10T06:54:19.639438Z"
    },
    "papermill": {
     "duration": 0.03087,
     "end_time": "2023-07-10T06:54:19.643075",
     "exception": false,
     "start_time": "2023-07-10T06:54:19.612205",
     "status": "completed"
    },
    "tags": []
   },
   "outputs": [],
   "source": [
    "y_pred_2=gnb.predict(X_test_standard)"
   ]
  },
  {
   "cell_type": "code",
   "execution_count": 30,
   "id": "1851e969",
   "metadata": {
    "execution": {
     "iopub.execute_input": "2023-07-10T06:54:19.689208Z",
     "iopub.status.busy": "2023-07-10T06:54:19.688761Z",
     "iopub.status.idle": "2023-07-10T06:54:19.700790Z",
     "shell.execute_reply": "2023-07-10T06:54:19.699458Z"
    },
    "papermill": {
     "duration": 0.037473,
     "end_time": "2023-07-10T06:54:19.703394",
     "exception": false,
     "start_time": "2023-07-10T06:54:19.665921",
     "status": "completed"
    },
    "tags": []
   },
   "outputs": [
    {
     "data": {
      "text/plain": [
       "0.8817829457364341"
      ]
     },
     "execution_count": 30,
     "metadata": {},
     "output_type": "execute_result"
    }
   ],
   "source": [
    "accuracy=gnb.score(X_test_standard,y_test)\n",
    "accuracy"
   ]
  },
  {
   "cell_type": "code",
   "execution_count": 31,
   "id": "211448c3",
   "metadata": {
    "execution": {
     "iopub.execute_input": "2023-07-10T06:54:19.747257Z",
     "iopub.status.busy": "2023-07-10T06:54:19.746810Z",
     "iopub.status.idle": "2023-07-10T06:54:20.075994Z",
     "shell.execute_reply": "2023-07-10T06:54:20.074547Z"
    },
    "papermill": {
     "duration": 0.354793,
     "end_time": "2023-07-10T06:54:20.079289",
     "exception": false,
     "start_time": "2023-07-10T06:54:19.724496",
     "status": "completed"
    },
    "tags": []
   },
   "outputs": [
    {
     "data": {
      "image/png": "[encoded data removed]",
      "text/plain": [
       "<Figure size 600x600 with 2 Axes>"
      ]
     },
     "metadata": {},
     "output_type": "display_data"
    }
   ],
   "source": [
    "import itertools\n",
    "# Calculate the confusion matrix\n",
    "cm = confusion_matrix(y_test, y_pred_2)\n",
    "\n",
    "# Create a figure and axis object\n",
    "fig, ax = plt.subplots(figsize=(6, 6))\n",
    "\n",
    "\n",
    "# Plot the confusion matrix with a colorbar\n",
    "im = ax.imshow(cm, interpolation='nearest', cmap='viridis')\n",
    "fig.colorbar(im)\n",
    "\n",
    "# Loop over the matrix and add text annotations\n",
    "for i, j in itertools.product(range(cm.shape[0]), range(cm.shape[1])):\n",
    "    ax.text(j, i,cm[i, j],\n",
    "             horizontalalignment=\"center\",\n",
    "             color=\"white\")\n",
    "\n",
    "# Add axis labels\n",
    "ax.set_xticks(range(2))\n",
    "#ax.set_xticklabels(['True Positive', 'True Nagetive'])\n",
    "ax.set_yticks(range(2))\n",
    "#ax.set_yticklabels(['False Negative','False Positive'])\n",
    "\n",
    "# Set the axis titles\n",
    "plt.ylabel('True label')\n",
    "plt.xlabel('Predicted label')\n",
    "plt.title('Confusion Matrix')\n",
    "plt.show()"
   ]
  },
  {
   "cell_type": "markdown",
   "id": "4b301419",
   "metadata": {
    "papermill": {
     "duration": 0.026765,
     "end_time": "2023-07-10T06:54:20.128601",
     "exception": false,
     "start_time": "2023-07-10T06:54:20.101836",
     "status": "completed"
    },
    "tags": []
   },
   "source": [
    "******Random Forest Classifier*****"
   ]
  },
  {
   "cell_type": "code",
   "execution_count": null,
   "id": "6c7acb61",
   "metadata": {
    "papermill": {
     "duration": 0.022331,
     "end_time": "2023-07-10T06:54:20.173779",
     "exception": false,
     "start_time": "2023-07-10T06:54:20.151448",
     "status": "completed"
    },
    "tags": []
   },
   "outputs": [],
   "source": []
  },
  {
   "cell_type": "code",
   "execution_count": 32,
   "id": "14005f68",
   "metadata": {
    "execution": {
     "iopub.execute_input": "2023-07-10T06:54:20.218548Z",
     "iopub.status.busy": "2023-07-10T06:54:20.218141Z",
     "iopub.status.idle": "2023-07-10T06:54:20.371064Z",
     "shell.execute_reply": "2023-07-10T06:54:20.369924Z"
    },
    "papermill": {
     "duration": 0.178649,
     "end_time": "2023-07-10T06:54:20.373846",
     "exception": false,
     "start_time": "2023-07-10T06:54:20.195197",
     "status": "completed"
    },
    "tags": []
   },
   "outputs": [],
   "source": [
    "from sklearn.ensemble import RandomForestClassifier"
   ]
  },
  {
   "cell_type": "code",
   "execution_count": 33,
   "id": "05f39fb2",
   "metadata": {
    "execution": {
     "iopub.execute_input": "2023-07-10T06:54:20.431586Z",
     "iopub.status.busy": "2023-07-10T06:54:20.430984Z",
     "iopub.status.idle": "2023-07-10T06:54:20.996248Z",
     "shell.execute_reply": "2023-07-10T06:54:20.995080Z"
    },
    "papermill": {
     "duration": 0.599517,
     "end_time": "2023-07-10T06:54:20.998642",
     "exception": false,
     "start_time": "2023-07-10T06:54:20.399125",
     "status": "completed"
    },
    "tags": []
   },
   "outputs": [
    {
     "data": {
      "text/html": [
       "<style>#sk-container-id-3 {color: black;background-color: white;}#sk-container-id-3 pre{padding: 0;}#sk-container-id-3 div.sk-toggleable {background-color: white;}#sk-container-id-3 label.sk-toggleable__label {cursor: pointer;display: block;width: 100%;margin-bottom: 0;padding: 0.3em;box-sizing: border-box;text-align: center;}#sk-container-id-3 label.sk-toggleable__label-arrow:before {content: \"▸\";float: left;margin-right: 0.25em;color: #696969;}#sk-container-id-3 label.sk-toggleable__label-arrow:hover:before {color: black;}#sk-container-id-3 div.sk-estimator:hover label.sk-toggleable__label-arrow:before {color: black;}#sk-container-id-3 div.sk-toggleable__content {max-height: 0;max-width: 0;overflow: hidden;text-align: left;background-color: #f0f8ff;}#sk-container-id-3 div.sk-toggleable__content pre {margin: 0.2em;color: black;border-radius: 0.25em;background-color: #f0f8ff;}#sk-container-id-3 input.sk-toggleable__control:checked~div.sk-toggleable__content {max-height: 200px;max-width: 100%;overflow: auto;}#sk-container-id-3 input.sk-toggleable__control:checked~label.sk-toggleable__label-arrow:before {content: \"▾\";}#sk-container-id-3 div.sk-estimator input.sk-toggleable__control:checked~label.sk-toggleable__label {background-color: #d4ebff;}#sk-container-id-3 div.sk-label input.sk-toggleable__control:checked~label.sk-toggleable__label {background-color: #d4ebff;}#sk-container-id-3 input.sk-hidden--visually {border: 0;clip: rect(1px 1px 1px 1px);clip: rect(1px, 1px, 1px, 1px);height: 1px;margin: -1px;overflow: hidden;padding: 0;position: absolute;width: 1px;}#sk-container-id-3 div.sk-estimator {font-family: monospace;background-color: #f0f8ff;border: 1px dotted black;border-radius: 0.25em;box-sizing: border-box;margin-bottom: 0.5em;}#sk-container-id-3 div.sk-estimator:hover {background-color: #d4ebff;}#sk-container-id-3 div.sk-parallel-item::after {content: \"\";width: 100%;border-bottom: 1px solid gray;flex-grow: 1;}#sk-container-id-3 div.sk-label:hover label.sk-toggleable__label {background-color: #d4ebff;}#sk-container-id-3 div.sk-serial::before {content: \"\";position: absolute;border-left: 1px solid gray;box-sizing: border-box;top: 0;bottom: 0;left: 50%;z-index: 0;}#sk-container-id-3 div.sk-serial {display: flex;flex-direction: column;align-items: center;background-color: white;padding-right: 0.2em;padding-left: 0.2em;position: relative;}#sk-container-id-3 div.sk-item {position: relative;z-index: 1;}#sk-container-id-3 div.sk-parallel {display: flex;align-items: stretch;justify-content: center;background-color: white;position: relative;}#sk-container-id-3 div.sk-item::before, #sk-container-id-3 div.sk-parallel-item::before {content: \"\";position: absolute;border-left: 1px solid gray;box-sizing: border-box;top: 0;bottom: 0;left: 50%;z-index: -1;}#sk-container-id-3 div.sk-parallel-item {display: flex;flex-direction: column;z-index: 1;position: relative;background-color: white;}#sk-container-id-3 div.sk-parallel-item:first-child::after {align-self: flex-end;width: 50%;}#sk-container-id-3 div.sk-parallel-item:last-child::after {align-self: flex-start;width: 50%;}#sk-container-id-3 div.sk-parallel-item:only-child::after {width: 0;}#sk-container-id-3 div.sk-dashed-wrapped {border: 1px dashed gray;margin: 0 0.4em 0.5em 0.4em;box-sizing: border-box;padding-bottom: 0.4em;background-color: white;}#sk-container-id-3 div.sk-label label {font-family: monospace;font-weight: bold;display: inline-block;line-height: 1.2em;}#sk-container-id-3 div.sk-label-container {text-align: center;}#sk-container-id-3 div.sk-container {/* jupyter's `normalize.less` sets `[hidden] { display: none; }` but bootstrap.min.css set `[hidden] { display: none !important; }` so we also need the `!important` here to be able to override the default hidden behavior on the sphinx rendered scikit-learn.org. See: https://github.com/scikit-learn/scikit-learn/issues/21755 */display: inline-block !important;position: relative;}#sk-container-id-3 div.sk-text-repr-fallback {display: none;}</style><div id=\"sk-container-id-3\" class=\"sk-top-container\"><div class=\"sk-text-repr-fallback\"><pre>RandomForestClassifier()</pre><b>In a Jupyter environment, please rerun this cell to show the HTML representation or trust the notebook. <br />On GitHub, the HTML representation is unable to render, please try loading this page with nbviewer.org.</b></div><div class=\"sk-container\" hidden><div class=\"sk-item\"><div class=\"sk-estimator sk-toggleable\"><input class=\"sk-toggleable__control sk-hidden--visually\" id=\"sk-estimator-id-3\" type=\"checkbox\" checked><label for=\"sk-estimator-id-3\" class=\"sk-toggleable__label sk-toggleable__label-arrow\">RandomForestClassifier</label><div class=\"sk-toggleable__content\"><pre>RandomForestClassifier()</pre></div></div></div></div></div>"
      ],
      "text/plain": [
       "RandomForestClassifier()"
      ]
     },
     "execution_count": 33,
     "metadata": {},
     "output_type": "execute_result"
    }
   ],
   "source": [
    "rf=RandomForestClassifier()\n",
    "rf.fit(X_train_standard,y_train)"
   ]
  },
  {
   "cell_type": "code",
   "execution_count": 34,
   "id": "f3894d4b",
   "metadata": {
    "execution": {
     "iopub.execute_input": "2023-07-10T06:54:21.044817Z",
     "iopub.status.busy": "2023-07-10T06:54:21.043769Z",
     "iopub.status.idle": "2023-07-10T06:54:21.071540Z",
     "shell.execute_reply": "2023-07-10T06:54:21.070097Z"
    },
    "papermill": {
     "duration": 0.053544,
     "end_time": "2023-07-10T06:54:21.074571",
     "exception": false,
     "start_time": "2023-07-10T06:54:21.021027",
     "status": "completed"
    },
    "tags": []
   },
   "outputs": [],
   "source": [
    "y_pred_3=rf.predict(X_test_standard)"
   ]
  },
  {
   "cell_type": "code",
   "execution_count": 35,
   "id": "d0e8487f",
   "metadata": {
    "execution": {
     "iopub.execute_input": "2023-07-10T06:54:21.118755Z",
     "iopub.status.busy": "2023-07-10T06:54:21.118351Z",
     "iopub.status.idle": "2023-07-10T06:54:21.127644Z",
     "shell.execute_reply": "2023-07-10T06:54:21.126787Z"
    },
    "papermill": {
     "duration": 0.034197,
     "end_time": "2023-07-10T06:54:21.130085",
     "exception": false,
     "start_time": "2023-07-10T06:54:21.095888",
     "status": "completed"
    },
    "tags": []
   },
   "outputs": [
    {
     "data": {
      "text/plain": [
       "0.872093023255814"
      ]
     },
     "execution_count": 35,
     "metadata": {},
     "output_type": "execute_result"
    }
   ],
   "source": [
    "accuracy_score(y_test,y_pred_3)"
   ]
  },
  {
   "cell_type": "code",
   "execution_count": null,
   "id": "5869c36c",
   "metadata": {
    "papermill": {
     "duration": 0.021402,
     "end_time": "2023-07-10T06:54:21.173653",
     "exception": false,
     "start_time": "2023-07-10T06:54:21.152251",
     "status": "completed"
    },
    "tags": []
   },
   "outputs": [],
   "source": []
  },
  {
   "cell_type": "markdown",
   "id": "b4fccb40",
   "metadata": {
    "papermill": {
     "duration": 0.020838,
     "end_time": "2023-07-10T06:54:21.216581",
     "exception": false,
     "start_time": "2023-07-10T06:54:21.195743",
     "status": "completed"
    },
    "tags": []
   },
   "source": [
    "Deep learning Approach"
   ]
  },
  {
   "cell_type": "code",
   "execution_count": 36,
   "id": "2475f458",
   "metadata": {
    "execution": {
     "iopub.execute_input": "2023-07-10T06:54:21.264252Z",
     "iopub.status.busy": "2023-07-10T06:54:21.262963Z",
     "iopub.status.idle": "2023-07-10T06:54:21.268776Z",
     "shell.execute_reply": "2023-07-10T06:54:21.267564Z"
    },
    "papermill": {
     "duration": 0.032611,
     "end_time": "2023-07-10T06:54:21.271574",
     "exception": false,
     "start_time": "2023-07-10T06:54:21.238963",
     "status": "completed"
    },
    "tags": []
   },
   "outputs": [],
   "source": [
    "from sklearn.preprocessing import LabelEncoder"
   ]
  },
  {
   "cell_type": "code",
   "execution_count": 37,
   "id": "80f25027",
   "metadata": {
    "execution": {
     "iopub.execute_input": "2023-07-10T06:54:21.317016Z",
     "iopub.status.busy": "2023-07-10T06:54:21.316315Z",
     "iopub.status.idle": "2023-07-10T06:54:21.323094Z",
     "shell.execute_reply": "2023-07-10T06:54:21.321811Z"
    },
    "papermill": {
     "duration": 0.032124,
     "end_time": "2023-07-10T06:54:21.325722",
     "exception": false,
     "start_time": "2023-07-10T06:54:21.293598",
     "status": "completed"
    },
    "tags": []
   },
   "outputs": [],
   "source": [
    "encoder = LabelEncoder()\n",
    "encoder.fit(y_train)\n",
    "encoded_Y = encoder.transform(y_train)"
   ]
  },
  {
   "cell_type": "code",
   "execution_count": 38,
   "id": "5b021f96",
   "metadata": {
    "execution": {
     "iopub.execute_input": "2023-07-10T06:54:21.371696Z",
     "iopub.status.busy": "2023-07-10T06:54:21.370841Z",
     "iopub.status.idle": "2023-07-10T06:54:21.377986Z",
     "shell.execute_reply": "2023-07-10T06:54:21.376645Z"
    },
    "papermill": {
     "duration": 0.033828,
     "end_time": "2023-07-10T06:54:21.381347",
     "exception": false,
     "start_time": "2023-07-10T06:54:21.347519",
     "status": "completed"
    },
    "tags": []
   },
   "outputs": [
    {
     "data": {
      "text/plain": [
       "array([1, 1, 1, ..., 1, 0, 0])"
      ]
     },
     "execution_count": 38,
     "metadata": {},
     "output_type": "execute_result"
    }
   ],
   "source": [
    "encoded_Y"
   ]
  },
  {
   "cell_type": "code",
   "execution_count": 39,
   "id": "7366db41",
   "metadata": {
    "execution": {
     "iopub.execute_input": "2023-07-10T06:54:21.426771Z",
     "iopub.status.busy": "2023-07-10T06:54:21.426366Z",
     "iopub.status.idle": "2023-07-10T06:54:32.514762Z",
     "shell.execute_reply": "2023-07-10T06:54:32.513455Z"
    },
    "papermill": {
     "duration": 11.114012,
     "end_time": "2023-07-10T06:54:32.517478",
     "exception": false,
     "start_time": "2023-07-10T06:54:21.403466",
     "status": "completed"
    },
    "tags": []
   },
   "outputs": [
    {
     "name": "stderr",
     "output_type": "stream",
     "text": [
      "/opt/conda/lib/python3.10/site-packages/tensorflow_io/python/ops/__init__.py:98: UserWarning: unable to load libtensorflow_io_plugins.so: unable to open file: libtensorflow_io_plugins.so, from paths: ['/opt/conda/lib/python3.10/site-packages/tensorflow_io/python/ops/libtensorflow_io_plugins.so']\n",
      "caused by: ['/opt/conda/lib/python3.10/site-packages/tensorflow_io/python/ops/libtensorflow_io_plugins.so: undefined symbol: _ZN3tsl6StatusC1EN10tensorflow5error4CodeESt17basic_string_viewIcSt11char_traitsIcEENS_14SourceLocationE']\n",
      "  warnings.warn(f\"unable to load libtensorflow_io_plugins.so: {e}\")\n",
      "/opt/conda/lib/python3.10/site-packages/tensorflow_io/python/ops/__init__.py:104: UserWarning: file system plugins are not loaded: unable to open file: libtensorflow_io.so, from paths: ['/opt/conda/lib/python3.10/site-packages/tensorflow_io/python/ops/libtensorflow_io.so']\n",
      "caused by: ['/opt/conda/lib/python3.10/site-packages/tensorflow_io/python/ops/libtensorflow_io.so: undefined symbol: _ZTVN10tensorflow13GcsFileSystemE']\n",
      "  warnings.warn(f\"file system plugins are not loaded: {e}\")\n"
     ]
    }
   ],
   "source": [
    "import tensorflow as tf\n",
    "from tensorflow import keras\n",
    "from tensorflow.keras.models import Sequential\n",
    "from tensorflow.keras.layers import Dense\n",
    "from tensorflow.keras.optimizers import Adam\n",
    "from tensorflow.keras.metrics import categorical_crossentropy"
   ]
  },
  {
   "cell_type": "code",
   "execution_count": 40,
   "id": "792c2ef9",
   "metadata": {
    "execution": {
     "iopub.execute_input": "2023-07-10T06:54:32.564043Z",
     "iopub.status.busy": "2023-07-10T06:54:32.563244Z",
     "iopub.status.idle": "2023-07-10T06:54:32.787711Z",
     "shell.execute_reply": "2023-07-10T06:54:32.786520Z"
    },
    "papermill": {
     "duration": 0.250955,
     "end_time": "2023-07-10T06:54:32.790694",
     "exception": false,
     "start_time": "2023-07-10T06:54:32.539739",
     "status": "completed"
    },
    "tags": []
   },
   "outputs": [],
   "source": [
    "model=Sequential()\n",
    "model.add(Dense(units=16,input_shape=(16,),activation='relu',kernel_regularizer=tf.keras.regularizers.l2(0.001)))\n",
    "model.add(Dense(units=32,activation='relu',kernel_regularizer=tf.keras.regularizers.l2(0.001)))\n",
    "model.add(Dense(units=4,activation='softmax'))"
   ]
  },
  {
   "cell_type": "code",
   "execution_count": 41,
   "id": "796e0e1d",
   "metadata": {
    "execution": {
     "iopub.execute_input": "2023-07-10T06:54:32.839649Z",
     "iopub.status.busy": "2023-07-10T06:54:32.839258Z",
     "iopub.status.idle": "2023-07-10T06:54:32.863177Z",
     "shell.execute_reply": "2023-07-10T06:54:32.861728Z"
    },
    "papermill": {
     "duration": 0.054297,
     "end_time": "2023-07-10T06:54:32.868641",
     "exception": false,
     "start_time": "2023-07-10T06:54:32.814344",
     "status": "completed"
    },
    "tags": []
   },
   "outputs": [
    {
     "name": "stdout",
     "output_type": "stream",
     "text": [
      "Model: \"sequential\"\n",
      "_________________________________________________________________\n",
      " Layer (type)                Output Shape              Param #   \n",
      "=================================================================\n",
      " dense (Dense)               (None, 16)                272       \n",
      "                                                                 \n",
      " dense_1 (Dense)             (None, 32)                544       \n",
      "                                                                 \n",
      " dense_2 (Dense)             (None, 4)                 132       \n",
      "                                                                 \n",
      "=================================================================\n",
      "Total params: 948\n",
      "Trainable params: 948\n",
      "Non-trainable params: 0\n",
      "_________________________________________________________________\n"
     ]
    }
   ],
   "source": [
    "model.summary()"
   ]
  },
  {
   "cell_type": "code",
   "execution_count": 42,
   "id": "1819a339",
   "metadata": {
    "execution": {
     "iopub.execute_input": "2023-07-10T06:54:32.917696Z",
     "iopub.status.busy": "2023-07-10T06:54:32.917271Z",
     "iopub.status.idle": "2023-07-10T06:54:32.941195Z",
     "shell.execute_reply": "2023-07-10T06:54:32.939939Z"
    },
    "papermill": {
     "duration": 0.052679,
     "end_time": "2023-07-10T06:54:32.944178",
     "exception": false,
     "start_time": "2023-07-10T06:54:32.891499",
     "status": "completed"
    },
    "tags": []
   },
   "outputs": [],
   "source": [
    "model.compile(optimizer=Adam(learning_rate=0.1),loss='sparse_categorical_crossentropy',metrics=['Accuracy'])"
   ]
  },
  {
   "cell_type": "code",
   "execution_count": 43,
   "id": "d0d30b31",
   "metadata": {
    "execution": {
     "iopub.execute_input": "2023-07-10T06:54:32.996409Z",
     "iopub.status.busy": "2023-07-10T06:54:32.996030Z",
     "iopub.status.idle": "2023-07-10T06:54:36.708139Z",
     "shell.execute_reply": "2023-07-10T06:54:36.706709Z"
    },
    "papermill": {
     "duration": 3.74256,
     "end_time": "2023-07-10T06:54:36.711330",
     "exception": false,
     "start_time": "2023-07-10T06:54:32.968770",
     "status": "completed"
    },
    "tags": []
   },
   "outputs": [
    {
     "name": "stdout",
     "output_type": "stream",
     "text": [
      "Epoch 1/20\n",
      "5/5 - 1s - loss: 0.7842 - Accuracy: 0.6930 - val_loss: 0.5428 - val_Accuracy: 0.8548 - 1s/epoch - 271ms/step\n",
      "Epoch 2/20\n",
      "5/5 - 0s - loss: 1.1538 - Accuracy: 0.7534 - val_loss: 0.7438 - val_Accuracy: 0.8299 - 46ms/epoch - 9ms/step\n",
      "Epoch 3/20\n",
      "5/5 - 0s - loss: 0.5495 - Accuracy: 0.8314 - val_loss: 0.5031 - val_Accuracy: 0.8589 - 50ms/epoch - 10ms/step\n",
      "Epoch 4/20\n",
      "5/5 - 0s - loss: 0.4476 - Accuracy: 0.8554 - val_loss: 0.4114 - val_Accuracy: 0.8714 - 49ms/epoch - 10ms/step\n",
      "Epoch 5/20\n",
      "5/5 - 0s - loss: 0.4171 - Accuracy: 0.8699 - val_loss: 0.4258 - val_Accuracy: 0.8672 - 47ms/epoch - 9ms/step\n",
      "Epoch 6/20\n",
      "5/5 - 0s - loss: 0.4126 - Accuracy: 0.8554 - val_loss: 0.4347 - val_Accuracy: 0.8589 - 44ms/epoch - 9ms/step\n",
      "Epoch 7/20\n",
      "5/5 - 0s - loss: 0.3962 - Accuracy: 0.8616 - val_loss: 0.4044 - val_Accuracy: 0.8672 - 64ms/epoch - 13ms/step\n",
      "Epoch 8/20\n",
      "5/5 - 0s - loss: 0.3907 - Accuracy: 0.8637 - val_loss: 0.3914 - val_Accuracy: 0.8797 - 48ms/epoch - 10ms/step\n",
      "Epoch 9/20\n",
      "5/5 - 0s - loss: 0.3779 - Accuracy: 0.8647 - val_loss: 0.3896 - val_Accuracy: 0.8797 - 46ms/epoch - 9ms/step\n",
      "Epoch 10/20\n",
      "5/5 - 0s - loss: 0.3736 - Accuracy: 0.8585 - val_loss: 0.3873 - val_Accuracy: 0.8755 - 48ms/epoch - 10ms/step\n",
      "Epoch 11/20\n",
      "5/5 - 0s - loss: 0.3633 - Accuracy: 0.8668 - val_loss: 0.3704 - val_Accuracy: 0.8714 - 50ms/epoch - 10ms/step\n",
      "Epoch 12/20\n",
      "5/5 - 0s - loss: 0.3563 - Accuracy: 0.8658 - val_loss: 0.3690 - val_Accuracy: 0.8714 - 61ms/epoch - 12ms/step\n",
      "Epoch 13/20\n",
      "5/5 - 0s - loss: 0.3506 - Accuracy: 0.8647 - val_loss: 0.3609 - val_Accuracy: 0.8672 - 64ms/epoch - 13ms/step\n",
      "Epoch 14/20\n",
      "5/5 - 0s - loss: 0.3432 - Accuracy: 0.8699 - val_loss: 0.3625 - val_Accuracy: 0.8714 - 45ms/epoch - 9ms/step\n",
      "Epoch 15/20\n",
      "5/5 - 0s - loss: 0.3379 - Accuracy: 0.8668 - val_loss: 0.3630 - val_Accuracy: 0.8672 - 46ms/epoch - 9ms/step\n",
      "Epoch 16/20\n",
      "5/5 - 0s - loss: 0.3446 - Accuracy: 0.8699 - val_loss: 0.3523 - val_Accuracy: 0.8714 - 46ms/epoch - 9ms/step\n",
      "Epoch 17/20\n",
      "5/5 - 0s - loss: 0.3362 - Accuracy: 0.8720 - val_loss: 0.3470 - val_Accuracy: 0.8755 - 44ms/epoch - 9ms/step\n",
      "Epoch 18/20\n",
      "5/5 - 0s - loss: 0.3376 - Accuracy: 0.8710 - val_loss: 0.3658 - val_Accuracy: 0.8714 - 60ms/epoch - 12ms/step\n",
      "Epoch 19/20\n",
      "5/5 - 0s - loss: 0.3295 - Accuracy: 0.8710 - val_loss: 0.3523 - val_Accuracy: 0.8714 - 45ms/epoch - 9ms/step\n",
      "Epoch 20/20\n",
      "5/5 - 0s - loss: 0.3270 - Accuracy: 0.8710 - val_loss: 0.3517 - val_Accuracy: 0.8672 - 46ms/epoch - 9ms/step\n"
     ]
    }
   ],
   "source": [
    "history=model.fit(x=X_train_standard,y=encoded_Y,validation_split=0.2,batch_size=200,epochs=20,verbose=2)"
   ]
  },
  {
   "cell_type": "code",
   "execution_count": 44,
   "id": "e9b5ed42",
   "metadata": {
    "execution": {
     "iopub.execute_input": "2023-07-10T06:54:36.769197Z",
     "iopub.status.busy": "2023-07-10T06:54:36.768248Z",
     "iopub.status.idle": "2023-07-10T06:54:36.774167Z",
     "shell.execute_reply": "2023-07-10T06:54:36.773094Z"
    },
    "papermill": {
     "duration": 0.03736,
     "end_time": "2023-07-10T06:54:36.776601",
     "exception": false,
     "start_time": "2023-07-10T06:54:36.739241",
     "status": "completed"
    },
    "tags": []
   },
   "outputs": [],
   "source": [
    "import matplotlib.pyplot as plt"
   ]
  },
  {
   "cell_type": "code",
   "execution_count": 45,
   "id": "19849ac3",
   "metadata": {
    "execution": {
     "iopub.execute_input": "2023-07-10T06:54:36.833570Z",
     "iopub.status.busy": "2023-07-10T06:54:36.832921Z",
     "iopub.status.idle": "2023-07-10T06:54:37.196047Z",
     "shell.execute_reply": "2023-07-10T06:54:37.194724Z"
    },
    "papermill": {
     "duration": 0.396057,
     "end_time": "2023-07-10T06:54:37.199606",
     "exception": false,
     "start_time": "2023-07-10T06:54:36.803549",
     "status": "completed"
    },
    "tags": []
   },
   "outputs": [
    {
     "data": {
      "image/png": "[encoded data removed]",
      "text/plain": [
       "<Figure size 640x480 with 1 Axes>"
      ]
     },
     "metadata": {},
     "output_type": "display_data"
    }
   ],
   "source": [
    "plt.plot(history.history['Accuracy'])\n",
    "plt.plot(history.history['val_Accuracy'])\n",
    "plt.title('model accuracy')\n",
    "plt.ylabel('accuracy')\n",
    "plt.xlabel('epoch')\n",
    "plt.legend(['train', 'val'], loc='upper left')\n",
    "plt.show()"
   ]
  },
  {
   "cell_type": "code",
   "execution_count": 46,
   "id": "09e02c40",
   "metadata": {
    "execution": {
     "iopub.execute_input": "2023-07-10T06:54:37.258353Z",
     "iopub.status.busy": "2023-07-10T06:54:37.257912Z",
     "iopub.status.idle": "2023-07-10T06:54:37.584739Z",
     "shell.execute_reply": "2023-07-10T06:54:37.583455Z"
    },
    "papermill": {
     "duration": 0.360037,
     "end_time": "2023-07-10T06:54:37.587298",
     "exception": false,
     "start_time": "2023-07-10T06:54:37.227261",
     "status": "completed"
    },
    "tags": []
   },
   "outputs": [
    {
     "data": {
      "image/png": "[encoded data removed]",
      "text/plain": [
       "<Figure size 640x480 with 1 Axes>"
      ]
     },
     "metadata": {},
     "output_type": "display_data"
    }
   ],
   "source": [
    "plt.plot(history.history['loss'])\n",
    "plt.plot(history.history['val_loss'])\n",
    "plt.title('model loss')\n",
    "plt.ylabel('loss')\n",
    "plt.xlabel('epoch')\n",
    "plt.legend(['train', 'val'], loc='upper left')\n",
    "plt.show()"
   ]
  },
  {
   "cell_type": "code",
   "execution_count": null,
   "id": "6215034b",
   "metadata": {
    "papermill": {
     "duration": 0.027838,
     "end_time": "2023-07-10T06:54:37.644140",
     "exception": false,
     "start_time": "2023-07-10T06:54:37.616302",
     "status": "completed"
    },
    "tags": []
   },
   "outputs": [],
   "source": []
  }
 ],
 "metadata": {
  "kernelspec": {
   "display_name": "Python 3",
   "language": "python",
   "name": "python3"
  },
  "language_info": {
   "codemirror_mode": {
    "name": "ipython",
    "version": 3
   },
   "file_extension": ".py",
   "mimetype": "text/x-python",
   "name": "python",
   "nbconvert_exporter": "python",
   "pygments_lexer": "ipython3",
   "version": "3.10.10"
  },
  "papermill": {
   "default_parameters": {},
   "duration": 39.89987,
   "end_time": "2023-07-10T06:54:40.966901",
   "environment_variables": {},
   "exception": null,
   "input_path": "__notebook__.ipynb",
   "output_path": "__notebook__.ipynb",
   "parameters": {},
   "start_time": "2023-07-10T06:54:01.067031",
   "version": "2.4.0"
  }
 },
 "nbformat": 4,
 "nbformat_minor": 5
}
